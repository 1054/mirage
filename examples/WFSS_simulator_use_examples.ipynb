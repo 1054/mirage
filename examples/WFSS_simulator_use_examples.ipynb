{
 "cells": [
  {
   "cell_type": "markdown",
   "metadata": {},
   "source": [
    "## Example Use of NIRCam Data Simulator to generate Wide Field Slitless Exposures"
   ]
  },
  {
   "cell_type": "markdown",
   "metadata": {},
   "source": [
    "The simulator is broken up into four basic stages:\n",
    "\n",
    "1. Creation of a \"seed image\".\n",
    "   This is generally a noiseless countrate image that contains signal\n",
    "   only from the astronomical sources to be simulated. Currently, the \n",
    "   nircam_simulator package contains code to produce a seed image starting\n",
    "   from object catalogs.\n",
    "   \n",
    "2. Disperse the seed image. \n",
    "   Use the disperser code to turn the imaging seed image into a seed \n",
    "   image containing the dispersed spectra of all sources.\n",
    "   \n",
    "3. Dark current prep.\n",
    "   The simualted data will be created by adding the simulated sources\n",
    "   in the seed image to a real NIRCam dark current exposure. This step\n",
    "   converts the dark current exposure to the requested readout pattern\n",
    "   and subarray size requested by the user.\n",
    "   \n",
    "4. Observation generator.\n",
    "   This step converts the seed image into an exposure of the requested\n",
    "   readout pattern and subarray size. It also adds cosmic rays and \n",
    "   Poisson noise, as well as other detector effects (IPC, crosstalk, etc).\n",
    "   This exposure is then added to the dark current exposure from step 2."
   ]
  },
  {
   "cell_type": "markdown",
   "metadata": {},
   "source": [
    "Dependencies: \n",
    "\n",
    "1) Install GRISMCONF from https://github.com/npirzkal/GRISMCONF\n",
    "\n",
    "The dependency below should eventually go away once GRISM_NIRCAM is packaged with\n",
    "the other simulator input files in the NIRCAM_SIM_DATA environment variable\n",
    "2) Install GRISM_NIRCAM (NIRCAM configuration files) from https://github.com/npirzkal/GRISM_NIRCAM  "
   ]
  },
  {
   "cell_type": "code",
   "execution_count": null,
   "metadata": {},
   "outputs": [],
   "source": [
    "# Set the MIRAGE_DATA environment variable if it is not\n",
    "# set already.\n",
    "import os\n",
    "#os.environ['MIRAGE_DATA'] = '/myfiles/mirage_data'"
   ]
  },
  {
   "cell_type": "code",
   "execution_count": null,
   "metadata": {},
   "outputs": [],
   "source": [
    "# Import the three steps of the simulator. \n",
    "from mirage.scripts import catalog_seed_image\n",
    "from mirage.scripts import dark_prep\n",
    "from mirage.scripts import obs_generator\n",
    "from mirage.scripts import wfss_simulator\n",
    "from mirage.scripts import yaml_update\n",
    "from NIRCAM_Gsim.grism_seed_disperser import Grism_seed"
   ]
  },
  {
   "cell_type": "code",
   "execution_count": null,
   "metadata": {},
   "outputs": [],
   "source": [
    "# For examining outputs\n",
    "from glob import glob\n",
    "from scipy.stats import sigmaclip\n",
    "import numpy as np\n",
    "from astropy.io import fits\n",
    "import matplotlib.pyplot as plt\n",
    "%matplotlib inline"
   ]
  },
  {
   "cell_type": "code",
   "execution_count": null,
   "metadata": {},
   "outputs": [],
   "source": [
    "# yaml files that contains the parameters of the\n",
    "# data to be simulated\n",
    "# Example yaml file shown at the bottom of this\n",
    "# notebook\n",
    "yamlfile1 = 'wfss_f250m_test.yaml'\n",
    "yamlfile2 = 'wfss_f300m_test.yaml'\n",
    "yamlfile3 = 'wfss_f410m_test.yaml'\n",
    "yamlfile4 = 'wfss_f460m_test.yaml'"
   ]
  },
  {
   "cell_type": "markdown",
   "metadata": {},
   "source": [
    "## First generate the \"seed images\" \n",
    "Each is generally a 2D noiseless countrate image that contains only \n",
    "simulated astronomical sources\n",
    "\n",
    "In order for the disperser software to function, we need seed images\n",
    "through several filters. The disperser will use the relative brightnesses\n",
    "of objects in the filters to determine the shape of the continuum for each."
   ]
  },
  {
   "cell_type": "code",
   "execution_count": null,
   "metadata": {},
   "outputs": [],
   "source": [
    "seed1 = catalog_seed_image.Catalog_seed()\n",
    "seed1.paramfile = yamlfile1\n",
    "seed1.make_seed()\n",
    "\n",
    "seed2 = catalog_seed_image.Catalog_seed()\n",
    "seed2.paramfile = yamlfile2\n",
    "seed2.make_seed()\n",
    "\n",
    "seed3 = catalog_seed_image.Catalog_seed()\n",
    "seed3.paramfile = yamlfile3\n",
    "seed3.make_seed()\n",
    "\n",
    "seed4 = catalog_seed_image.Catalog_seed()\n",
    "seed4.paramfile = yamlfile4\n",
    "seed4.make_seed()"
   ]
  },
  {
   "cell_type": "markdown",
   "metadata": {},
   "source": [
    "### Look at the seed image"
   ]
  },
  {
   "cell_type": "code",
   "execution_count": null,
   "metadata": {},
   "outputs": [],
   "source": [
    "def show(array,title,min=0,max=1000):\n",
    "    plt.figure(figsize=(12,12))\n",
    "    plt.imshow(array,clim=(min,max))\n",
    "    plt.title(title)\n",
    "    plt.colorbar().set_label('DN/s')"
   ]
  },
  {
   "cell_type": "code",
   "execution_count": null,
   "metadata": {},
   "outputs": [],
   "source": [
    "show(seed1.seedimage,'Seed Image',max=20)"
   ]
  },
  {
   "cell_type": "markdown",
   "metadata": {},
   "source": [
    "## Disperse the seed image"
   ]
  },
  {
   "cell_type": "code",
   "execution_count": null,
   "metadata": {},
   "outputs": [],
   "source": [
    "# Specify the desired direction (row, column) of the dispersed sources\n",
    "# as well as the crossing filter to use\n",
    "crossing_filter = 'F444W'\n",
    "module = 'A'    # 'A' or 'B'\n",
    "direction = 'R' # 'R' for row or 'C' for column\n",
    "image_seeds = [seed1.seed_file, seed2.seed_file, seed3.seed_file, seed4.seed_file]\n",
    "dmode = 'mod{}_{}'.format(module.upper(), direction.upper())\n",
    "loc = os.path.expandvars(\"$MIRAGE_DATA/nircam/GRISM_NIRCAM/\")\n",
    "background_file = \"{}_{}_back.fits\".format(crossing_filter,dmode)\n",
    "t = Grism_seed(image_seeds,crossing_filter,dmode,config_path=loc)\n",
    "t.observation()\n",
    "t.finalize(Back = background_file)"
   ]
  },
  {
   "cell_type": "markdown",
   "metadata": {},
   "source": [
    "### Look at the dispersed seed image"
   ]
  },
  {
   "cell_type": "code",
   "execution_count": null,
   "metadata": {},
   "outputs": [],
   "source": [
    "show(t.final,'Dispersed Seed Image',max=1)"
   ]
  },
  {
   "cell_type": "markdown",
   "metadata": {},
   "source": [
    "## Prepare the dark current exposure\n",
    "This will serve as the base of the simulated data.\n",
    "This step will linearize the dark current (if it \n",
    "is not already), and reorganize it into the \n",
    "requested readout pattern and number of groups."
   ]
  },
  {
   "cell_type": "code",
   "execution_count": null,
   "metadata": {},
   "outputs": [],
   "source": [
    "d = dark_prep.DarkPrep()\n",
    "d.paramfile = yamlfile1\n",
    "d.prepare()"
   ]
  },
  {
   "cell_type": "markdown",
   "metadata": {},
   "source": [
    "### Look at the dark current \n",
    "For this, we will look at an image of the final group\n",
    "minus the first group"
   ]
  },
  {
   "cell_type": "code",
   "execution_count": null,
   "metadata": {},
   "outputs": [],
   "source": [
    "exptime = d.linDark.header['NGROUPS'] * seed1.frametime\n",
    "diff = (d.linDark.data[0,-1,:,:] - d.linDark.data[0,0,:,:]) / exptime\n",
    "show(diff,'Dark Current Countrate',max=0.1)"
   ]
  },
  {
   "cell_type": "markdown",
   "metadata": {},
   "source": [
    "## Create the final exposure\n",
    "Turn the seed image into a exposure of the \n",
    "proper readout pattern, and combine it with the\n",
    "dark current exposure. Cosmic rays and other detector\n",
    "effects are added. \n",
    "\n",
    "The output can be either this linearized exposure, or\n",
    "a 'raw' exposure where the linearized exposure is \n",
    "\"unlinearized\" and the superbias and \n",
    "reference pixel signals are added, or the user can \n",
    "request both outputs. This is controlled from\n",
    "within the yaml parameter file.\n",
    "\n",
    "In this case, we need a new yaml file, since the yaml\n",
    "files used eariler were used to generate the imaging mode\n",
    "seed images. "
   ]
  },
  {
   "cell_type": "code",
   "execution_count": null,
   "metadata": {},
   "outputs": [],
   "source": [
    "y = yaml_update.YamlUpdate()\n",
    "y.file = yamlfile1\n",
    "y.filter = crossing_filter\n",
    "y.pupil = 'GRISM' + direction\n",
    "y.outname = 'wfss_dispersed_{}_{}.yaml'.format(dmode,crossing_filter)\n",
    "y.run()"
   ]
  },
  {
   "cell_type": "code",
   "execution_count": null,
   "metadata": {},
   "outputs": [],
   "source": [
    "obs = obs_generator.Observation()\n",
    "obs.linDark = d.prepDark\n",
    "obs.seed = t.final\n",
    "obs.segmap = seed1.seed_segmap # not used in this step\n",
    "obs.seedheader = seed1.seedinfo # not used in this step\n",
    "obs.paramfile = y.outname\n",
    "obs.create()"
   ]
  },
  {
   "cell_type": "code",
   "execution_count": null,
   "metadata": {},
   "outputs": [],
   "source": []
  },
  {
   "cell_type": "markdown",
   "metadata": {},
   "source": [
    "### Examine the final output image\n",
    "Again, we will look at the last group minus the first group, from the linear output integration"
   ]
  },
  {
   "cell_type": "code",
   "execution_count": null,
   "metadata": {},
   "outputs": [],
   "source": [
    "with fits.open(obs.linear_output) as h:\n",
    "    lindata = h[1].data\n",
    "    header = h[0].header"
   ]
  },
  {
   "cell_type": "code",
   "execution_count": null,
   "metadata": {},
   "outputs": [],
   "source": [
    "exptime = header['EFFINTTM']\n",
    "diffdata = (lindata[0,-1,:,:] - lindata[0,0,:,:]) / exptime\n",
    "show(diffdata,'Simulated Data',min=0,max=20)"
   ]
  },
  {
   "cell_type": "code",
   "execution_count": null,
   "metadata": {},
   "outputs": [],
   "source": [
    "# Show on a log scale, to bring out the presence of the dark current\n",
    "# Noise in the CDS image makes for a lot of pixels with values < 0,\n",
    "# which makes this kind of an ugly image. Add an offset so that\n",
    "# everything is positive and the noise is visible\n",
    "offset = 2.\n",
    "plt.figure(figsize=(12,12))\n",
    "plt.imshow(np.log10(diffdata+offset),clim=(0.001,np.log10(80)))\n",
    "plt.title('Simulated Data')\n",
    "plt.colorbar().set_label('DN/s')"
   ]
  },
  {
   "cell_type": "markdown",
   "metadata": {},
   "source": [
    "## For convenience, combine the steps above into a single function."
   ]
  },
  {
   "cell_type": "markdown",
   "metadata": {},
   "source": [
    "Currently, the wfss_simulator function below only works for the simplest WFSS case. Several imaging mode seed images are created. These are fed into the disperser to produce the dispersed seed image. This is then combined with the dark current observation to create the simulated dispersed data. "
   ]
  },
  {
   "cell_type": "code",
   "execution_count": null,
   "metadata": {},
   "outputs": [],
   "source": [
    "# First, run all steps of the imaging simulator for yaml file #1\n",
    "yfiles = [yamlfile1,yamlfile2,yamlfile3,yamlfile4]\n",
    "crossing_filter = 'F444W'\n",
    "disp_dir = 'R'\n",
    "module = 'A'\n",
    "dark_prep_output = 'V42424024002P000000000112o_B5_F250M_seed_uncal_linear_dark_prep_object.fits'\n",
    "\n",
    "\n",
    "m = wfss_simulator.WFSSSim()\n",
    "m.paramfiles = yfiles\n",
    "m.crossing_filter = crossing_filter\n",
    "m.direction = disp_dir\n",
    "m.module = module\n",
    "# optionally, to skip the dark_prep step if you already \n",
    "# have the appropriate dark current file that has been\n",
    "# output by a prior run of dark_prep, you can choose to\n",
    "# skip the dark_prep step using the line below\n",
    "\n",
    "#m.override_dark = dark_prep_output\n",
    "\n",
    "m.create()"
   ]
  },
  {
   "cell_type": "markdown",
   "metadata": {},
   "source": [
    "### Each yaml file will simulate an exposure for a single pointing using a single detector."
   ]
  },
  {
   "cell_type": "markdown",
   "metadata": {},
   "source": [
    "## Running Multiple Simulations"
   ]
  },
  {
   "cell_type": "markdown",
   "metadata": {},
   "source": [
    "### In Series"
   ]
  },
  {
   "cell_type": "code",
   "execution_count": null,
   "metadata": {},
   "outputs": [],
   "source": [
    "paramlist = [[yaml_a5_filt1_pointing1,yaml_a5_filt2_pointing1,yaml_a5_filt3_pointing1],\n",
    "             [yaml_a5_filt1_pointing2,yaml_a5_filt2_pointing2,yaml_a5_filt3_pointing2],\n",
    "             [yaml_b5_filt1_pointing3,yaml_b5_filt2_pointing3,yaml_b5_filt3_pointing3],\n",
    "             [yaml_b5_filt1_pointing4,yaml_b5_filt2_pointing4,yaml_b5_filt3_pointing4]]\n",
    "cr_filts = ['F444W','F444W','F356W','F410M']\n",
    "dirs = ['R','R','C','C']\n",
    "mods = ['A','A','B','B']"
   ]
  },
  {
   "cell_type": "code",
   "execution_count": null,
   "metadata": {},
   "outputs": [],
   "source": [
    "# Function to run many simulations\n",
    "# in series\n",
    "def many_wfss(paramfiles,filts,directions,modules):\n",
    "    for files, filt, direct, mod in zip(paramlist, cr_filts, dirs, mods):\n",
    "        m = wfss_simulator.WFSSSim()\n",
    "        m.paramfiles = files\n",
    "        m.crossing_filter = filt\n",
    "        m.direction = direct\n",
    "        m.module = mod\n",
    "        m.create()"
   ]
  },
  {
   "cell_type": "markdown",
   "metadata": {},
   "source": [
    "### In Parallel"
   ]
  },
  {
   "cell_type": "code",
   "execution_count": null,
   "metadata": {},
   "outputs": [],
   "source": [
    "# Simulations do not depend on\n",
    "# one another, so we can parallelize\n",
    "# to speed things up.\n",
    "\n",
    "#STILL NEED TO TEST THIS\n",
    "from multiprocessing import Pool\n",
    "n_procs = 5 # number of cores available\n",
    "with Pool(n_procs) as pool:\n",
    "    pool.map(make_sim,paramlist)"
   ]
  },
  {
   "cell_type": "markdown",
   "metadata": {},
   "source": [
    "## Generating input yaml files"
   ]
  },
  {
   "cell_type": "markdown",
   "metadata": {},
   "source": [
    "For convenience, observing programs with multiple pointings \n",
    "and detectors can be simulated starting with the program's \n",
    "APT file. The xml and pointings files must be exported from \n",
    "APT, and are then used as input into a tool that will\n",
    "generate a series of yaml input files."
   ]
  },
  {
   "cell_type": "code",
   "execution_count": null,
   "metadata": {},
   "outputs": [],
   "source": [
    "from mirage.scripts import apt_inputs, yaml_generator"
   ]
  },
  {
   "cell_type": "code",
   "execution_count": null,
   "metadata": {
    "scrolled": true
   },
   "outputs": [],
   "source": [
    "THIS STILL NEEDS TO BE TESTED FOR THE WFSS CASE. IMAGING CASE WORKS\n",
    "\n",
    "# Create a series of data simluator input yaml files\n",
    "# from APT files\n",
    "yam = yaml_generator.SimInput()\n",
    "yam.input_xml = 'example_imaging_program.xml'\n",
    "yam.pointing_file = 'example_imaging_program.pointing'\n",
    "yam.siaf = '/ifs/jwst/wit/witserv/data4/nrc/hilbert/simulated_data/NIRCam_SIAF_2017-03-28.csv'\n",
    "yam.output_dir = './'\n",
    "yam.simdata_output_dir = './'\n",
    "yam.observation_table = 'observation_list.yaml'\n",
    "yam.use_JWST_pipeline = True\n",
    "yam.use_linearized_darks = False\n",
    "yam.datatype = 'linear'\n",
    "yam.reffile_setup()\n",
    "yam.create_inputs()"
   ]
  },
  {
   "cell_type": "code",
   "execution_count": null,
   "metadata": {},
   "outputs": [],
   "source": [
    "yfiles = glob(os.path.join(yam.output_dir,'V*yaml'))"
   ]
  },
  {
   "cell_type": "markdown",
   "metadata": {},
   "source": [
    "### Example yaml input file\n",
    "\n",
    "Entries listed as 'config' have default files that are present in the \n",
    "config directory of the repository. The scripts are set up to \n",
    "automatically find and use these files. The user can replace 'config'\n",
    "with a filename if they wish to override the default.\n",
    "\n",
    "In general, if 'None' is placed in a field, then the step that uses\n",
    "that particular file will be skipped.\n",
    "\n",
    "Note that the linearized_darkfile entry overrides the dark entry, unless\n",
    "linearized_darkfile is set to None, in which case the dark entry will be\n",
    "used.\n",
    "\n",
    "Use of a valid readout pattern in the readpatt entry will cause the \n",
    "simulator to look up the values of nframe and nskip and ignore the \n",
    "values given in the yaml file."
   ]
  },
  {
   "cell_type": "raw",
   "metadata": {},
   "source": [
    "Inst:\n",
    "  instrument: NIRCam          #Instrument name\n",
    "  mode: imaging               #Observation mode (e.g. imaging, WFSS, moving_target)\n",
    "  use_JWST_pipeline: False   #Use pipeline in data transformations\n",
    "\n",
    "Readout:\n",
    "  readpatt: RAPID  #Readout pattern (RAPID, BRIGHT2, etc) overrides nframe,nskip unless it is not recognized\n",
    "  ngroup: 3        #Number of groups in integration\n",
    "  nint: 1          #Number of integrations per exposure\n",
    "  array_name: NRCB5_FULL    #Name of array (FULL, SUB160, SUB64P, etc)\n",
    "  filter: F250M       #Filter of simulated data (F090W, F322W2, etc)\n",
    "  pupil: CLEAR        #Pupil element for simulated data (CLEAR, GRISMC, etc)\n",
    "\n",
    "Reffiles:                                 #Set to None or leave blank if you wish to skip that step\n",
    "  dark: None   #Dark current integration used as the base\n",
    "  linearized_darkfile: $MIRAGE_DATA/nircam/darks/linearized/B5/Linearized_Dark_and_SBRefpix_NRCNRCBLONG-DARK-60090141241_1_490_SE_2016-01-09T02h46m50_uncal.fits # Linearized dark ramp to use as input. Supercedes dark above\n",
    "  badpixmask: $MIRAGE_DATA/nircam/reference_files/badpix/NRCB5_17161_BPM_ISIMCV3_2016-01-21_ssbspmask_DMSorient.fits # If linearized dark is used, populate output DQ extensions using this file\n",
    "  superbias: $MIRAGE_DATA/nircam/reference_files/superbias/NRCB5_superbias_from_list_of_biasfiles.list.fits  #Superbias file. Set to None or leave blank if not using\n",
    "  linearity: $MIRAGE_DATA/nircam/reference_files/linearity/NRCBLONG_17161_LinearityCoeff_ADU0_2016-05-22_ssblinearity_v2_DMSorient.fits    #linearity correction coefficients\n",
    "  saturation: $MIRAGE_DATA/nircam/reference_files/saturation/NRCB5_17161_WellDepthADU_2016-03-10_ssbsaturation_wfact_DMSorient.fits    #well depth reference files\n",
    "  gain: $MIRAGE_DATA/nircam/reference_files/gain/NRCB5_17161_Gain_ISIMCV3_2016-02-25_ssbgain_DMSorient.fits #Gain map\n",
    "  pixelflat: None \n",
    "  illumflat: None                               #Illumination flat field file\n",
    "  astrometric: $MIRAGE_DATA/nircam/reference_files/distortion/NRCB5_FULL_distortion.asdf  #Astrometric distortion file (asdf)\n",
    "  distortion_coeffs: $MIRAGE_DATA/nircam/reference_files/SIAF/NIRCam_SIAF_2017-03-28.csv        #CSV file containing distortion coefficients\n",
    "  ipc: $MIRAGE_DATA/nircam/reference_files/ipc/NRCB5_17161_IPCDeconvolutionKernel_2016-03-18_ssbipc_DMSorient.fits #File containing IPC kernel to apply\n",
    "  invertIPC: True       #Invert the IPC kernel before the convolution. True or False. Use True if the kernel is designed for the removal of IPC effects, like the JWST reference files are.\n",
    "  occult: None                                    #Occulting spots correction image\n",
    "  pixelAreaMap: /ifs/jwst/wit/nircam/nircam_simulator_data/reference_files/pam/NIRCam_B5_PAM_imaging.fits #Pixel area map for the detector. Used to introduce distortion into the output ramp.\n",
    "  subarray_defs:   config   #File that contains a list of all possible subarray names and coordinates\n",
    "  readpattdefs:    config   #File that contains a list of all possible readout pattern names and associated NFRAME/NSKIP values\n",
    "  crosstalk:       config   #File containing crosstalk coefficients\n",
    "  filtpupilcombo:  config   #File that lists the filter wheel element / pupil wheel element combinations. Used only in writing output file\n",
    "  flux_cal:        config   #File that lists flux conversion factor and pivot wavelength for each filter. Only used when making direct image outputs to be fed into the grism disperser code.\n",
    "  \n",
    "nonlin:\n",
    "  limit: 60000.0                           #Upper singal limit to which nonlinearity is applied (ADU)\n",
    "  accuracy: 0.000001                        #Non-linearity accuracy threshold\n",
    "  maxiter: 10                              #Maximum number of iterations to use when applying non-linearity\n",
    "  robberto:  False                         #Use Massimo Robberto type non-linearity coefficients\n",
    "\n",
    "cosmicRay:\n",
    "  path: $MIRAGE_DATA/nircam/cosmic_ray_library/         #Path to CR library\n",
    "  library: SUNMIN    #Type of cosmic rayenvironment (SUNMAX, SUNMIN, FLARE)\n",
    "  scale: 1.5     #Cosmic ray scaling factor\n",
    "  suffix: IPC_NIRCam_B5    #Suffix of library file names\n",
    "  seed: 2956411739      #Seed for random number generator\n",
    "\n",
    "simSignals:\n",
    "  pointsource: my_ptsrc.cat #File containing a list of point sources to add (x,y locations and magnitudes)\n",
    "  psfpath: $MIRAGE_DATA/nircam/psf_data/        #Path to PSF library\n",
    "  psfbasename: nircam                        #Basename of the files in the psf library\n",
    "  psfpixfrac: 0.1                           #Fraction of a pixel between entries in PSF library (e.g. 0.1 = files for PSF centered at 0.1 pixel intervals within pixel)\n",
    "  psfwfe: 123                               #PSF WFE value (0,115,123,132,136,150,155)\n",
    "  psfwfegroup: 0                             #WFE realization group (0 to 9)\n",
    "  galaxyListFile: my_galaxies.cat\n",
    "  extended: None          #Extended emission count rate image file name\n",
    "  extendedscale: 1.0         #Scaling factor for extended emission image\n",
    "  extendedCenter: 1024,1024  #x,y pixel location at which to place the extended image if it is smaller than the output array size\n",
    "  PSFConvolveExtended: True #Convolve the extended image with the PSF before adding to the output image (True or False)\n",
    "  movingTargetList: None   #Name of file containing a list of point source moving targets (e.g. KBOs, asteroids) to add.\n",
    "  movingTargetSersic: None  #ascii file containing a list of 2D sersic profiles to have moving through the field\n",
    "  movingTargetExtended: None      #ascii file containing a list of stamp images to add as moving targets (planets, moons, etc)\n",
    "  movingTargetConvolveExtended: True       #convolve the extended moving targets with PSF before adding.\n",
    "  movingTargetToTrack: None #File containing a single moving target which JWST will track during observation (e.g. a planet, moon, KBO, asteroid)\tThis file will only be used if mode is set to \"moving_target\" \n",
    "  zodiacal:  None                          #Zodiacal light count rate image file \n",
    "  zodiscale:  1.0                            #Zodi scaling factor\n",
    "  scattered:  None                          #Scattered light count rate image file\n",
    "  scatteredscale: 1.0                        #Scattered light scaling factor\n",
    "  bkgdrate: 0.0                         #Constant background count rate (electrons/sec/pixel)\n",
    "  poissonseed: 2012872553                  #Random number generator seed for Poisson simulation)\n",
    "  photonyield: True                         #Apply photon yield in simulation\n",
    "  pymethod: True                            #Use double Poisson simulation for photon yield\n",
    "\n",
    "Telescope:\n",
    "  ra: 53.1                     #RA of simulated pointing\n",
    "  dec: -27.8                   #Dec of simulated pointing\n",
    "  rotation: 0.0                #y axis rotation (degrees E of N)\n",
    "  tracking: sidereal           #sidereal or non-sidereal\n",
    "\n",
    "newRamp:\n",
    "  dq_configfile: config          #config file used by JWST pipeline\n",
    "  sat_configfile: config         #config file used by JWST pipeline\n",
    "  superbias_configfile: config   #config file used by JWST pipeline\n",
    "  refpix_configfile: config      #config file used by JWST pipeline \n",
    "  linear_configfile: config      #config file used by JWST pipeline\n",
    "\n",
    "Output:\n",
    "  file: V42424024002P000000000112o_B5_F250M_uncal.fits   #Output filename\n",
    "  directory: ./   # Directory in which to place output files\n",
    "  datatype: linear,raw # Type of data to save. 'linear' for linearized ramp. 'raw' for raw ramp. 'linear,raw' for both\n",
    "  format: DMS          #Output file format Options: DMS, SSR(not yet implemented)\n",
    "  save_intermediates: False   #Save intermediate products separately (point source image, etc)\n",
    "  grism_source_image: False   # Create an image to be dispersed?\n",
    "  unsigned: True   #Output unsigned integers? (0-65535 if true. -32768 to 32768 if false)\n",
    "  dmsOrient: True    #Output in DMS orientation (vs. fitswriter orientation).\n",
    "  program_number: 42424    #Program Number\n",
    "  title: Supernovae and Black Holes Near Hyperspatial Bypasses   #Program title\n",
    "  PI_Name: Doug Adams  #Proposal PI Name\n",
    "  Proposal_category: GO  #Proposal category\n",
    "  Science_category: Cosmology  #Science category\n",
    "  observation_number: '002'    #Observation Number\n",
    "  observation_label: Obs2    #User-generated observation Label\n",
    "  visit_number: '024'    #Visit Number\n",
    "  visit_group: '01'    #Visit Group\n",
    "  visit_id: '42424024002'    #Visit ID\n",
    "  sequence_id: '2'    #Sequence ID\n",
    "  activity_id: '2o'    #Activity ID. Increment with each exposure.\n",
    "  exposure_number: '00001'    #Exposure Number\n",
    "  obs_id: 'V42424024002P000000000112o'   #Observation ID number\n",
    "  date_obs: '2019-10-15'  #Date of observation\n",
    "  time_obs: '06:29:11.852'  #Time of observation\n",
    "  obs_template: 'NIRCam Imaging'  #Observation template\n",
    "  primary_dither_type: NONE  #Primary dither pattern name\n",
    "  total_primary_dither_positions: 1  #Total number of primary dither positions\n",
    "  primary_dither_position: 1  #Primary dither position number\n",
    "  subpix_dither_type: 2-POINT-MEDIUM-WITH-NIRISS  #Subpixel dither pattern name\n",
    "  total_subpix_dither_positions: 2  #Total number of subpixel dither positions\n",
    "  subpix_dither_position: 2  #Subpixel dither position number\n",
    "  xoffset: 344.284  #Dither pointing offset in x (arcsec)\n",
    "  yoffset: 466.768  #Dither pointing offset in y (arcsec)"
   ]
  }
 ],
 "metadata": {
  "kernelspec": {
   "display_name": "Python 3",
   "language": "python",
   "name": "python3"
  },
  "language_info": {
   "codemirror_mode": {
    "name": "ipython",
    "version": 3
   },
   "file_extension": ".py",
   "mimetype": "text/x-python",
   "name": "python",
   "nbconvert_exporter": "python",
   "pygments_lexer": "ipython3",
   "version": "3.5.4"
  }
 },
 "nbformat": 4,
 "nbformat_minor": 2
}
