{
 "cells": [
  {
   "cell_type": "markdown",
   "metadata": {},
   "source": [
    "# Create NIRCam TSO Simulated Data"
   ]
  },
  {
   "cell_type": "markdown",
   "metadata": {},
   "source": [
    "This is a bare-bones notebook designed to show how to run Mirage to create TSO data. It patches together the contents of several scripts written during the development of TSO mode in Mirage."
   ]
  },
  {
   "cell_type": "code",
   "execution_count": null,
   "metadata": {},
   "outputs": [],
   "source": [
    "from astropy.io import fits, ascii\n",
    "from astropy.table import Table\n",
    "import batman\n",
    "import h5py\n",
    "import numpy as np\n",
    "import matplotlib.pyplot as plt\n",
    "\n",
    "from mirage.catalogs.hdf5_catalog import save_tso\n",
    "from mirage.grism_tso_simulator import GrismTSO\n",
    "from mirage.imaging_simulator import ImgSim\n",
    "from mirage.seed_image.catalog_seed_image import Catalog_seed"
   ]
  },
  {
   "cell_type": "markdown",
   "metadata": {},
   "source": [
    "## Grism TSO"
   ]
  },
  {
   "cell_type": "markdown",
   "metadata": {},
   "source": [
    "1. Get a stellar spectrum\n",
    "2. Create a transmission spectrum\n",
    "3. Create source catalog(s) for Mirage\n",
    "4. Create an input yaml file for Mirage\n",
    "5. Run Mirage"
   ]
  },
  {
   "cell_type": "markdown",
   "metadata": {},
   "source": [
    "### Get a stellar spectrum"
   ]
  },
  {
   "cell_type": "markdown",
   "metadata": {},
   "source": [
    "This is the spectrum of the unocculted star associated with the TSO object. Example below is a simple flat continuum. Another option for getting a spectrum would be to use pysynphot."
   ]
  },
  {
   "cell_type": "code",
   "execution_count": null,
   "metadata": {},
   "outputs": [],
   "source": [
    "target_1_wavelength = np.arange(1.0, 5.5, 0.1)\n",
    "target_1_flux = np.repeat(1e-16, len(target_1_wavelength))\n",
    "wavelengths = [target_1_wavelength]\n",
    "fluxes = [target_1_flux]"
   ]
  },
  {
   "cell_type": "code",
   "execution_count": null,
   "metadata": {},
   "outputs": [],
   "source": [
    "wavelength_units = 'microns'\n",
    "flux_units = 'flam'"
   ]
  },
  {
   "cell_type": "code",
   "execution_count": null,
   "metadata": {},
   "outputs": [],
   "source": [
    "sed_file = 'test_grism_tso_sed_file.hdf5'"
   ]
  },
  {
   "cell_type": "code",
   "execution_count": null,
   "metadata": {},
   "outputs": [],
   "source": [
    "with h5py.File(sed_file, \"w\") as file_obj:\n",
    "    for i in range(len(fluxes)):\n",
    "        dset = file_obj.create_dataset(str(i+1), data=[wavelengths[i], fluxes[i]], dtype='f',\n",
    "                                       compression=\"gzip\", compression_opts=9)\n",
    "        dset.attrs[u'wavelength_units'] = wavelength_units\n",
    "        dset.attrs[u'flux_units'] = flux_units"
   ]
  },
  {
   "cell_type": "markdown",
   "metadata": {},
   "source": [
    "### Create source catalog(s) for Mirage"
   ]
  },
  {
   "cell_type": "markdown",
   "metadata": {},
   "source": [
    "Mirage accepts a series of ascii source catalogs. In this case, the options that can be used are:\n",
    "\n",
    "1. TSO grism catalog\n",
    "2. Point source catalog\n",
    "3. Galaxy catalog\n",
    "4. Extended source catalog\n",
    "\n",
    "The point source, galaxy, and extended source catalogs contain \"background\" sources. That is, sources other than the primary TSO target. All catalogs are input to Mirage as entries within the input yaml file.\n",
    "\n",
    "See the notebook on catalog creation in the examples directory of the Mirage repository for examples of how to create source catalogs. Catalogs may also be created manually."
   ]
  },
  {
   "cell_type": "code",
   "execution_count": null,
   "metadata": {},
   "outputs": [],
   "source": [
    "tso_catalog = 'tso_grism_source.cat'\n",
    "ptsrc_catalog = 'ptsrcs.cat'"
   ]
  },
  {
   "cell_type": "markdown",
   "metadata": {},
   "source": [
    "### Create a transmission spectrum"
   ]
  },
  {
   "cell_type": "markdown",
   "metadata": {},
   "source": [
    "The transmission spectrum is the wavelength-dependent effective radius of the planet, in units of the stellar radius. The transmission spectrum must be in an ASCII file."
   ]
  },
  {
   "cell_type": "code",
   "execution_count": null,
   "metadata": {},
   "outputs": [],
   "source": [
    "waves = np.linspace(0.9, 5.5, 1000)  # microns\n",
    "trans = np.repeat(1.0, 1000)  # R_planet / R_star"
   ]
  },
  {
   "cell_type": "code",
   "execution_count": null,
   "metadata": {},
   "outputs": [],
   "source": [
    "tab = Table()\n",
    "tab['Wavelength'] = waves\n",
    "tab['Transmission'] = trans\n",
    "tab.write('transmission_spectrum.txt', format='ascii')"
   ]
  },
  {
   "cell_type": "markdown",
   "metadata": {},
   "source": [
    "### Create an input yaml file for Mirage"
   ]
  },
  {
   "cell_type": "markdown",
   "metadata": {},
   "source": [
    "This file contains all the inputs needed by Mirage. For most Mirage simulations, there is a tool to create these files from an APT file. However, TSO mode has not yet been added to this tool, so yaml files will have to be produced manually for the time being."
   ]
  },
  {
   "cell_type": "code",
   "execution_count": null,
   "metadata": {},
   "outputs": [],
   "source": [
    "paramfile = 'jw_grism_tso_test_nrcb5.yaml'"
   ]
  },
  {
   "cell_type": "markdown",
   "metadata": {},
   "source": [
    "### Run Mirage"
   ]
  },
  {
   "cell_type": "markdown",
   "metadata": {},
   "source": [
    "Gather together the inputs and call Mirage's `tso_simulator`"
   ]
  },
  {
   "cell_type": "code",
   "execution_count": null,
   "metadata": {},
   "outputs": [],
   "source": [
    "m = GrismTSO(paramfile, SED_file=sed_file, SED_normalizing_catalog_column=None,\n",
    "                 final_SED_file=None, save_dispersed_seed=True, source_stamps_file=None,\n",
    "                 extrapolate_SED=True, override_dark=None, disp_seed_filename=None, orders=[\"+1\", \"+2\"],\n",
    "                 create_continuum_seds=True)\n",
    "m.create()"
   ]
  },
  {
   "cell_type": "code",
   "execution_count": null,
   "metadata": {},
   "outputs": [],
   "source": []
  },
  {
   "cell_type": "markdown",
   "metadata": {},
   "source": [
    "## Imaging TSO "
   ]
  },
  {
   "cell_type": "markdown",
   "metadata": {},
   "source": [
    "1. Create lightcurve file\n",
    "2. Create source catalog(s) for Mirage\n",
    "3. Create an input yaml file for Mirage\n",
    "4. Run Mirage"
   ]
  },
  {
   "cell_type": "markdown",
   "metadata": {},
   "source": [
    "### Create lightcurve file"
   ]
  },
  {
   "cell_type": "markdown",
   "metadata": {},
   "source": [
    "Use batman to create a lightcurve as save the results to an hdf5 file, which can then be input to Mirage"
   ]
  },
  {
   "cell_type": "code",
   "execution_count": null,
   "metadata": {},
   "outputs": [],
   "source": [
    "catalog_name = 'example_lightcurve.hdf5'"
   ]
  },
  {
   "cell_type": "code",
   "execution_count": null,
   "metadata": {},
   "outputs": [],
   "source": [
    "# Batman parameters - these have been copied from the example in the Batman documentation\n",
    "\n",
    "params = batman.TransitParams()       # object to store transit parameters\n",
    "params.t0 = 0.                        # time of inferior conjunction\n",
    "params.per = 1.                       # orbital period\n",
    "params.rp = 0.8                       # planet radius (in units of stellar radii)\n",
    "params.a = 10.                        # semi-major axis (in units of stellar radii)\n",
    "params.inc = 87.                      # orbital inclination (in degrees)\n",
    "params.ecc = 0.                       # eccentricity\n",
    "params.w = 90.                        # longitude of periastron (in degrees)\n",
    "params.limb_dark = \"nonlinear\"        # limb darkening model\n",
    "params.u = [0.5, 0.1, 0.1, -0.1]      # limb darkening coefficients [u1, u2, u3, u4]"
   ]
  },
  {
   "cell_type": "code",
   "execution_count": null,
   "metadata": {},
   "outputs": [],
   "source": [
    "times = np.linspace(-0.025, 0.025, 1000)  # times at which to calculate light curve\n",
    "m = batman.TransitModel(params, times)    # initializes model\n",
    "flux = m.light_curve(params)              # calculates light curve"
   ]
  },
  {
   "cell_type": "code",
   "execution_count": null,
   "metadata": {},
   "outputs": [],
   "source": [
    "# Place the lightcurve into a dictionary to prepare for saving. The keys are object\n",
    "# numbers corresponding to objects in the Mirage input catalogs.\n",
    "example_times = np.linspace(0, 110., 1000)\n",
    "\n",
    "contents = {}\n",
    "contents['7'] = {'times': example_times,\n",
    "                 'fluxes': flux}\n",
    "contents['8'] = {'times': example_times,\n",
    "                 'fluxes': flux}"
   ]
  },
  {
   "cell_type": "code",
   "execution_count": null,
   "metadata": {},
   "outputs": [],
   "source": [
    "# Save\n",
    "save_tso(contents, catalog_name, time_unit='second')"
   ]
  },
  {
   "cell_type": "code",
   "execution_count": null,
   "metadata": {},
   "outputs": [],
   "source": [
    "# Plot the lightcurve\n",
    "f, a = plt.subplots()\n",
    "a.scatter(example_times, flux, color='red', marker='v')\n",
    "plt.show()"
   ]
  },
  {
   "cell_type": "markdown",
   "metadata": {},
   "source": [
    "### Create source catalog(s) for Mirage"
   ]
  },
  {
   "cell_type": "markdown",
   "metadata": {},
   "source": [
    "In this case, rather than the `tso_grism_catalog` in the yaml file, the user must supply a `tso_imaging_catalog`. This catalog will contain the list of sources whose flux will be varying with time. As in the grism TSO case, objects listed in the other types of catalogs will be added to the simulation in order to create a more realistic scene.\n",
    "\n",
    "See the notebook on catalog creation in the examples directory of the Mirage repository for examples of how to create source catalogs. Catalogs may also be created manually."
   ]
  },
  {
   "cell_type": "code",
   "execution_count": null,
   "metadata": {},
   "outputs": [],
   "source": [
    "tso_imaging_catalog = 'example_tso_sources.cat'"
   ]
  },
  {
   "cell_type": "markdown",
   "metadata": {},
   "source": [
    "### Create an input yaml file for Mirage"
   ]
  },
  {
   "cell_type": "markdown",
   "metadata": {},
   "source": [
    "This file contains all the inputs needed by Mirage. For most Mirage simulations, there is a tool to create these files from an APT file. However, TSO mode has not yet been added to this tool, so yaml files will have to be produced manually for the time being."
   ]
  },
  {
   "cell_type": "code",
   "execution_count": null,
   "metadata": {},
   "outputs": [],
   "source": [
    "imaging_yaml = 'jw_add_tso_source.yaml'"
   ]
  },
  {
   "cell_type": "markdown",
   "metadata": {},
   "source": [
    "### Run Mirage"
   ]
  },
  {
   "cell_type": "markdown",
   "metadata": {},
   "source": [
    "Option 1: create just the noiseless seed image. This is helpful when testing inputs, as skipping the later steps of Mirage saves significant time"
   ]
  },
  {
   "cell_type": "code",
   "execution_count": null,
   "metadata": {},
   "outputs": [],
   "source": [
    "c = Catalog_seed()\n",
    "c.paramfile = imaging_yaml\n",
    "c.make_seed()"
   ]
  },
  {
   "cell_type": "markdown",
   "metadata": {},
   "source": [
    "Option 2: Run all steps of Mirage, in order to create the final simulated data"
   ]
  },
  {
   "cell_type": "code",
   "execution_count": null,
   "metadata": {},
   "outputs": [],
   "source": [
    "c = ImgSim()\n",
    "c.paramfile = imaging_yaml\n",
    "c.create()"
   ]
  }
 ],
 "metadata": {
  "kernelspec": {
   "display_name": "Python 3",
   "language": "python",
   "name": "python3"
  },
  "language_info": {
   "codemirror_mode": {
    "name": "ipython",
    "version": 3
   },
   "file_extension": ".py",
   "mimetype": "text/x-python",
   "name": "python",
   "nbconvert_exporter": "python",
   "pygments_lexer": "ipython3",
   "version": "3.6.7"
  }
 },
 "nbformat": 4,
 "nbformat_minor": 2
}
