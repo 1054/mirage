{
 "cells": [
  {
   "cell_type": "markdown",
   "metadata": {},
   "source": [
    "# Example: Using MIRAGE to Generate Wide Field Slitless Exposures"
   ]
  },
  {
   "cell_type": "markdown",
   "metadata": {},
   "source": [
    "This notebook shows how to use Mirage to create Wide Field Slitless Spectroscopy (WFSS) data, beginning with an APT file. This can be done for NIRCam or NIRISS."
   ]
  },
  {
   "cell_type": "markdown",
   "metadata": {},
   "source": [
    "*Table of Contents:*\n",
    "* [Getting Started](#getting_started)\n",
    "* [Create input yaml files from an APT proposal](#yaml_from_apt)\n",
    "* [Make WFSS simulated observations](#make_wfss)\n",
    "   * [Provide mulitple yaml files](#multiple_yamls)\n",
    "   * [Provide a single yaml file and an hdf5 file containing SED curves of the sources](#yaml_plus_hdf5)\n",
    "   * [Outputs](#wfss_outputs)\n",
    "* [Make imaging simulated observations](#make_imaging)\n",
    "   * [Outputs](#imaging_outputs)"
   ]
  },
  {
   "cell_type": "markdown",
   "metadata": {},
   "source": [
    "---\n",
    "<a id='getting_started'></a>\n",
    "## Getting Started\n",
    "\n",
    "<div class=\"alert alert-block alert-warning\">\n",
    "**Important:** \n",
    "Before proceeding, ensure you have set the MIRAGE_DATA environment variable to point to the directory that contains the reference files associated with MIRAGE.\n",
    "</div>\n",
    "\n",
    "<div class=\"alert alert-block alert-info\">\n",
    "**Dependencies:**<br>\n",
    "\n",
    "1) Install GRISMCONF from https://github.com/npirzkal/GRISMCONF<br>\n",
    "\n",
    "2) Install NIRCAM_Gsim from https://github.com/npirzkal/NIRCAM_Gsim. This is the disperser software, which works for both NIRCam and NIRISS.\n",
    "</div>\n",
    "\n",
    "<div class=\"alert alert-block alert-info\">\n",
    "**Link to CRDS:**<br>\n",
    "    Make sure that you are pointing to an installation of CRDS. If working outside of the STScI network, CRDS can be configured by setting two environment variables:\n",
    "\n",
    "from the command line:\n",
    "\n",
    "export CRDS_PATH=$HOME/crds_cache\n",
    "\n",
    "export CRDS_SERVER_URL=https://jwst-crds.stsci.edu\n",
    "\n",
    "OR:"
   ]
  },
  {
   "cell_type": "code",
   "execution_count": null,
   "metadata": {},
   "outputs": [],
   "source": [
    "# Within python\n",
    "#os.environ[\"CRDS_PATH\"]=\"$HOME/crds_cache\"\n",
    "#os.environ[\"CDRS_SERVER_URL\"]=\"https://jwst-cdrs.stsci.edu\""
   ]
  },
  {
   "cell_type": "code",
   "execution_count": null,
   "metadata": {},
   "outputs": [],
   "source": [
    "import os\n",
    "from glob import glob\n",
    "import pkg_resources\n",
    "import yaml\n",
    "\n",
    "from astropy.io import fits\n",
    "from astropy.visualization import simple_norm, imshow_norm\n",
    "import h5py\n",
    "import numpy as np\n",
    "import matplotlib.pyplot as plt\n",
    "%matplotlib inline\n",
    "\n",
    "from mirage import imaging_simulator\n",
    "from mirage import wfss_simulator\n",
    "from mirage.yaml import yaml_generator"
   ]
  },
  {
   "cell_type": "code",
   "execution_count": null,
   "metadata": {},
   "outputs": [],
   "source": [
    "TEST_DATA_DIRECTORY = os.path.normpath(os.path.join(pkg_resources.resource_filename('mirage', ''),\n",
    "                                                    '../examples/wfss_example_data'))"
   ]
  },
  {
   "cell_type": "markdown",
   "metadata": {},
   "source": [
    "---\n",
    "<a id='yaml_from_apt'></a>\n",
    "## Create a series of yaml files from an [APT](https://jwst-docs.stsci.edu/display/JPP/JWST+Astronomers+Proposal+Tool+Overview) proposal"
   ]
  },
  {
   "cell_type": "markdown",
   "metadata": {},
   "source": [
    "With your proposal file open in APT, export the \"xml\" and \"pointing\" files. These will serve as the inputs to the yaml file generator function."
   ]
  },
  {
   "cell_type": "code",
   "execution_count": null,
   "metadata": {},
   "outputs": [],
   "source": [
    "# Input files from APT\n",
    "xml_file = os.path.join(TEST_DATA_DIRECTORY, 'niriss_wfss_example.xml')\n",
    "pointing_file = os.path.join(TEST_DATA_DIRECTORY, 'niriss_wfss_example.pointing')"
   ]
  },
  {
   "cell_type": "markdown",
   "metadata": {},
   "source": [
    "List the source catalogs to use when creating the simulations. The catalog input can be either a single string, in which case it is assumed that the same catalog is used for all observations, or a list of catalogs, in which case it is assumed that there is one catalog for each [observation](https://jwst-docs.stsci.edu/display/JPP/JWST+Astronomers+Proposal+Tool+Overview#JWSTAstronomersProposalToolOverview-Observations) in the APT file."
   ]
  },
  {
   "cell_type": "code",
   "execution_count": null,
   "metadata": {},
   "outputs": [],
   "source": [
    "catalogs = {'niriss': os.path.join(TEST_DATA_DIRECTORY, 'point_sources.cat')}"
   ]
  },
  {
   "cell_type": "markdown",
   "metadata": {},
   "source": [
    "Other parameters can be input via the params keyword. Currently for each keyword, only a single value is accepted, and this value is applied to all observations. We will be expanding to allow different values for different observations soon."
   ]
  },
  {
   "cell_type": "code",
   "execution_count": null,
   "metadata": {},
   "outputs": [],
   "source": [
    "params = {'PAV3': 0.}"
   ]
  },
  {
   "cell_type": "markdown",
   "metadata": {},
   "source": [
    "Provide the output directory for the yaml files themselves, as well as the output directory where you want the simulated files to eventually be saved. This information will be placed in the yaml files."
   ]
  },
  {
   "cell_type": "code",
   "execution_count": null,
   "metadata": {
    "scrolled": true
   },
   "outputs": [],
   "source": [
    "# Create a series of Mirage input yaml files\n",
    "# using the APT files\n",
    "yaml_output_dir = '/where/to/put/yaml/files'\n",
    "simulations_output_dir = '/where/to/put/simulated/data'\n",
    "yam = yaml_generator.SimInput(xml_file, pointing_file, catalogs=catalogs, verbose=True,\n",
    "                                  output_dir=yaml_output_dir,\n",
    "                                  simdata_output_dir=simulations_output_dir,\n",
    "                                  parameter_defaults=params, datatype='raw')\n",
    "# If you are on the STScI network and can see central store, setting\n",
    "# use_linearized_darks to True will save time. Otherwise set to False,\n",
    "# and the linearized darks will be constructed during the run\n",
    "yam.use_linearized_darks = True\n",
    "yam.create_inputs()"
   ]
  },
  {
   "cell_type": "markdown",
   "metadata": {},
   "source": [
    "One yaml file will be created for each exposure. The naming convention of the files follows that for [JWST exposure filenames](https://jwst-docs.stsci.edu/display/JDAT/File+Naming+Conventions+and+Data+Products). For example, the first expsure in proposal number 12345, Observation 3, Visit 2, assuming it is made using NIRCam (the A2 detector in this case) will be named jw12345003002_01101_00001_nrca1_uncal.fits"
   ]
  },
  {
   "cell_type": "markdown",
   "metadata": {},
   "source": [
    "Look to see which yaml files are for WFSS and which are imaging"
   ]
  },
  {
   "cell_type": "code",
   "execution_count": null,
   "metadata": {},
   "outputs": [],
   "source": [
    "yaml_files = glob(os.path.join(yam.output_dir,\"jw*.yaml\"))\n",
    "\n",
    "yaml_WFSS_files = []\n",
    "yaml_imaging_files = []\n",
    "for f in yaml_files:\n",
    "    my_dict = yaml.load(open(f))\n",
    "    if my_dict[\"Inst\"][\"mode\"]==\"wfss\":\n",
    "        yaml_WFSS_files.append(f)\n",
    "    if my_dict[\"Inst\"][\"mode\"]==\"imaging\":\n",
    "        yaml_imaging_files.append(f)\n",
    "    \n",
    "print(\"WFSS files:\",len(yaml_WFSS_files))\n",
    "print(\"Imaging files:\",len(yaml_imaging_files))"
   ]
  },
  {
   "cell_type": "markdown",
   "metadata": {},
   "source": [
    "Each output yaml file contains details on the simulation."
   ]
  },
  {
   "cell_type": "code",
   "execution_count": null,
   "metadata": {},
   "outputs": [],
   "source": [
    "with open(yaml_WFSS_files[0], 'r') as infile:\n",
    "    parameters = yaml.load(infile)\n",
    "for key in parameters:\n",
    "    for level2_key in parameters[key]:\n",
    "        print('{}: {}: {}'.format(key, level2_key, parameters[key][level2_key]))"
   ]
  },
  {
   "cell_type": "markdown",
   "metadata": {},
   "source": [
    "---\n",
    "<a id='make_wfss'></a>\n",
    "## Make WFSS simulated observations"
   ]
  },
  {
   "cell_type": "markdown",
   "metadata": {},
   "source": [
    "Create simulated data from the WFSS yaml files. This is accomplished using the **wfss_simulator** module, which wraps around the various stages of Mirage. There are several input options available for the **wfss_simulator**.\n",
    "\n",
    "* Provide a single yaml file and an hdf5 file containing SED curves of the sources\n",
    "* Provide mulitple yaml files"
   ]
  },
  {
   "cell_type": "markdown",
   "metadata": {},
   "source": [
    "<a id='multiple_yamls'></a>\n",
    "### Provide mulitple yaml files"
   ]
  },
  {
   "cell_type": "markdown",
   "metadata": {},
   "source": [
    "Here, we provide multiple yaml files as input. In this case, Mirage will create a direct (undispersed) seed image for each yaml file. For each source, Mirage will construct a continuum spectrum by interpolating the filtered magnitudes in the direct images. This continuum spectrum will then be placed in the dispersed seed image, which will then be combined with a dark current exposure in order to create the final simulated exposure.\n",
    "\n",
    "NOTE: In this case, all of the supplied yaml files MUST have the same pointing!"
   ]
  },
  {
   "cell_type": "code",
   "execution_count": null,
   "metadata": {},
   "outputs": [],
   "source": [
    "test_yaml_files = ['jw00042001001_01104_00003_nis.yaml', 'jw00042001001_01107_00005_nis.yaml',\n",
    "                   'jw00042001001_0110c_00009_nis.yaml']\n",
    "test_yaml_files = [os.path.join(yaml_output_dir, yfile) for yfile in test_yaml_files]"
   ]
  },
  {
   "cell_type": "markdown",
   "metadata": {},
   "source": [
    "* If an appropriate (linearized, or linearized and cut to the proper number of groups) dark current exposure already exists, the dark current preparation step can be skipped by providing the name of the dark file in **override_dark**.\n",
    "\n",
    "* The **save_dispersed_seed** option will save the dispersed seed image to a fits file. \n",
    "\n",
    "* The name of the fits file can be given in the **disp_seed_filename** keyword or, if that is left as None, Mirage will create a filename using the input yaml filename.\n",
    "\n",
    "* If **extrapolate_SED** is set to True, then the continuum calculated by Mirage will be extrapolated to cover the necessary wavlengths if the filters in the input yaml files do not span the entire wavelength range.\n",
    "\n",
    "* If the **source_stamps_file** is set to the name of an [hdf5](https://www.h5py.org/) file, then the disperser will save 2D stamp images of the dispersed spectral orders for each target. These are intended as aids for spectral extraction. (**NOTE that turning this option on will lead to significantly longer run times for Mirage, as so much more data will be generated.**) "
   ]
  },
  {
   "cell_type": "code",
   "execution_count": null,
   "metadata": {},
   "outputs": [],
   "source": [
    "m = wfss_simulator.WFSSSim(test_yaml_files, override_dark=None, save_dispersed_seed=True,\n",
    "                           extrapolate_SED=True, disp_seed_filename=None, source_stamps_file=None)\n",
    "m.create()"
   ]
  },
  {
   "cell_type": "markdown",
   "metadata": {},
   "source": [
    "<a id='yaml_plus_hdf5'></a>\n",
    "### Provide a single yaml file and an hdf5 file containing SED curves of the sources"
   ]
  },
  {
   "cell_type": "markdown",
   "metadata": {},
   "source": [
    "In this case, a single WFSS mode yaml file is provided as input to Mirage. Along with this an [hdf5](https://www.h5py.org/) file is provided. This file contains a Spectral Energy Distribution (SED) curve for each target, in units of F_lambda. The advantage of this input scenario is that you are not limited to simple continuum spectra for your targets. Emission and absorption features can be added.\n",
    "\n",
    "The disperser software will then use the SED along with the segmentation map in the direct seed image to place spectra into the dispersed seed image. In the cell below, we show a simple example of how to create an hdf5 file with SEDs. In this case the spectrum is flat with no emission nor absorption features. "
   ]
  },
  {
   "cell_type": "code",
   "execution_count": null,
   "metadata": {},
   "outputs": [],
   "source": [
    "target_1_wavelength = np.arange(1.0, 5.5, 0.1)\n",
    "target_1_flux = np.repeat(1e-16, len(target_1_wavelength))\n",
    "wavelengths = [target_1_wavelength]\n",
    "fluxes = [target_1_flux]\n",
    "\n",
    "# To add fluxes for more targets\n",
    "target_2_wavelength = np.arange(0.8, 5.4, 0.05)\n",
    "target_2_flux = np.repeat(1.4e-16, len(target_2_wavelength))\n",
    "wavelengths.append(target_2_wavelength)\n",
    "fluxes.append(target_2_flux)"
   ]
  },
  {
   "cell_type": "markdown",
   "metadata": {},
   "source": [
    "Currently Mirage and the disperser software assume that wavelengths are in units of microns and fluxes are in units of F_lambda. In the future Mirage may begin checking units. If you wish to add information about the units of the wavelengths and fluxes, that can be done by setting attributes of each dataset as it is created. See the example below where the file **test_sed_file.hdf5** is created."
   ]
  },
  {
   "cell_type": "code",
   "execution_count": null,
   "metadata": {},
   "outputs": [],
   "source": [
    "wavelength_units = 'microns'\n",
    "flux_units = 'flam'"
   ]
  },
  {
   "cell_type": "code",
   "execution_count": null,
   "metadata": {},
   "outputs": [],
   "source": [
    "sed_file = 'test_sed_file.hdf5'\n",
    "with h5py.File(sed_file, \"w\") as file_obj:\n",
    "    for i in range(len(fluxes)):\n",
    "        dset = file_obj.create_dataset(str(i+1), data=[wavelengths[i], fluxes[i]], dtype='f',\n",
    "                                       compression=\"gzip\", compression_opts=9)\n",
    "        dset.attrs[u'wavelength_units'] = wavelength_units\n",
    "        dset.attrs[u'flux_units'] = flux_units"
   ]
  },
  {
   "cell_type": "code",
   "execution_count": null,
   "metadata": {
    "scrolled": true
   },
   "outputs": [],
   "source": [
    "# Input the SED file along with a WFSS mode yaml file to Mirage\n",
    "m = wfss_simulator.WFSSSim(test_yaml_files[1], override_dark=None, save_dispersed_seed=True,\n",
    "                           extrapolate_SED=True, disp_seed_filename=None, SED_file=sed_file)\n",
    "m.create()"
   ]
  },
  {
   "cell_type": "markdown",
   "metadata": {},
   "source": [
    "<a id='wfss_outputs'></a>\n",
    "### Outputs"
   ]
  },
  {
   "cell_type": "markdown",
   "metadata": {},
   "source": [
    "Regardless of whether the **wfss_simulator** is called with multiple yaml files or a yaml and an hdf5 file, the outputs will be the same. The final output will be **jw\\*uncal.fits** (or **jw\\*linear.fits**, depending on whether raw or linear outputs are specified in the yaml files) files in your output directory. These files are in DMS format and can be fed directly into the **calwebb_detector1** pipeline for further calibration, if desired.\n",
    "\n",
    "The seed image is also saved, as an intermediate output. This seed image is a noiseless rate image of the same scene in the final output file. The seed image can be thought of as an ideal version of the scene that excludes (most) detector effects."
   ]
  },
  {
   "cell_type": "markdown",
   "metadata": {},
   "source": [
    "#### Examine the dispersed seed image"
   ]
  },
  {
   "cell_type": "code",
   "execution_count": null,
   "metadata": {},
   "outputs": [],
   "source": [
    "with fits.open(m.disp_seed_filename) as seedfile:\n",
    "    dispersed_seed = seedfile[1].data"
   ]
  },
  {
   "cell_type": "code",
   "execution_count": null,
   "metadata": {},
   "outputs": [],
   "source": [
    "fig, ax = plt.subplots(figsize=(10, 10))\n",
    "norm = simple_norm(dispersed_seed, stretch='log', min_cut=0.25, max_cut=10)\n",
    "cax = ax.imshow(dispersed_seed, norm=norm)\n",
    "cbar = fig.colorbar(cax)\n",
    "plt.show()"
   ]
  },
  {
   "cell_type": "markdown",
   "metadata": {},
   "source": [
    "#### Examine the final output file"
   ]
  },
  {
   "cell_type": "code",
   "execution_count": null,
   "metadata": {},
   "outputs": [],
   "source": [
    "final_file = 'jw00042001001_01107_00005_nis_uncal.fits'\n",
    "with fits.open(final_file) as hdulist:\n",
    "    data = hdulist['SCI'].data\n",
    "    hdulist.info()"
   ]
  },
  {
   "cell_type": "code",
   "execution_count": null,
   "metadata": {},
   "outputs": [],
   "source": [
    "fig, ax = plt.subplots(figsize=(10, 10))\n",
    "norm = simple_norm(data[0, 8, :, :], stretch='log', min_cut=5000, max_cut=50000)\n",
    "cax = ax.imshow(data[0, 8, :, :], norm=norm)\n",
    "cbar = fig.colorbar(cax)\n",
    "plt.show()"
   ]
  },
  {
   "cell_type": "markdown",
   "metadata": {},
   "source": [
    "---\n",
    "<a id='make_imaging'></a>\n",
    "# Make imaging simulated observations"
   ]
  },
  {
   "cell_type": "markdown",
   "metadata": {},
   "source": [
    "Similar to the **wfss_simulator** module for WFSS observations, imaging data can be created using the **imaging_simulator** module. This can be used to create the data for the direct (in NIRCam and NIRISS), and Out of Field (NIRCam) exposures that accompany WFSS observations, as well as the shortwave channel data for NIRCam, which is always imaging while the longwave detector is observing through the grism."
   ]
  },
  {
   "cell_type": "code",
   "execution_count": null,
   "metadata": {
    "scrolled": true
   },
   "outputs": [],
   "source": [
    "for yaml_imaging_file in yaml_imaging_files[0:1]:\n",
    "    print(\"Imaging simulation for {}\".format(yaml_imaging_file))\n",
    "    img_sim = imaging_simulator.ImgSim()\n",
    "    img_sim.paramfile = yaml_imaging_file\n",
    "    img_sim.create()"
   ]
  },
  {
   "cell_type": "markdown",
   "metadata": {},
   "source": [
    "<a id='imaging_outputs'></a>\n",
    "### Outputs"
   ]
  },
  {
   "cell_type": "markdown",
   "metadata": {},
   "source": [
    "As with WFSS outputs, the **imaging_simulator** will create **jw\\*ucal.fits** or **jw\\*linear.fits** files, depending on which was specified in the associated yaml files."
   ]
  },
  {
   "cell_type": "markdown",
   "metadata": {},
   "source": [
    "#### Examine the seed image"
   ]
  },
  {
   "cell_type": "code",
   "execution_count": null,
   "metadata": {},
   "outputs": [],
   "source": [
    "with fits.open(img_sim.seedimage) as seedfile:\n",
    "    dispersed_seed = seedfile[1].data"
   ]
  },
  {
   "cell_type": "code",
   "execution_count": null,
   "metadata": {},
   "outputs": [],
   "source": [
    "fig, ax = plt.subplots(figsize=(10, 10))\n",
    "norm = simple_norm(img_sim.seedimage, stretch='log', min_cut=0.25, max_cut=1000)\n",
    "cax = ax.imshow(img_sim.seedimage, norm=norm)\n",
    "cbar = fig.colorbar(cax)\n",
    "plt.show()"
   ]
  },
  {
   "cell_type": "markdown",
   "metadata": {},
   "source": [
    "#### Examine the output file"
   ]
  },
  {
   "cell_type": "code",
   "execution_count": null,
   "metadata": {},
   "outputs": [],
   "source": [
    "final_file = 'jw00042001001_01109_00007_nis_uncal.fits'\n",
    "with fits.open(final_file) as hdulist:\n",
    "    data = hdulist['SCI'].data\n",
    "    hdulist.info()"
   ]
  },
  {
   "cell_type": "code",
   "execution_count": null,
   "metadata": {},
   "outputs": [],
   "source": [
    "fig, ax = plt.subplots(figsize=(10, 10))\n",
    "norm = simple_norm(data[0, 4, :, :], stretch='log', min_cut=5000, max_cut=50000)\n",
    "cax = ax.imshow(data[0, 4, :, :], norm=norm)\n",
    "cbar = fig.colorbar(cax)\n",
    "plt.show()"
   ]
  },
  {
   "cell_type": "code",
   "execution_count": null,
   "metadata": {},
   "outputs": [],
   "source": []
  }
 ],
 "metadata": {
  "kernelspec": {
   "display_name": "Python 3",
   "language": "python",
   "name": "python3"
  },
  "language_info": {
   "codemirror_mode": {
    "name": "ipython",
    "version": 3
   },
   "file_extension": ".py",
   "mimetype": "text/x-python",
   "name": "python",
   "nbconvert_exporter": "python",
   "pygments_lexer": "ipython3",
   "version": "3.6.6"
  }
 },
 "nbformat": 4,
 "nbformat_minor": 2
}
