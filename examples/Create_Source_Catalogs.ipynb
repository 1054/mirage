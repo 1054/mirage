{
 "cells": [
  {
   "cell_type": "markdown",
   "metadata": {},
   "source": [
    "# Use Mirage to Create Source Catalogs"
   ]
  },
  {
   "cell_type": "markdown",
   "metadata": {},
   "source": [
    "Mirage contains some functionality for creating source catalogs that can be used when creating simulated data. This notebook shows examples of how to use these functions. When working from APT xml and pointing files, catalogs must be generated prior to calling the `yaml_generator` to create the input yaml files."
   ]
  },
  {
   "cell_type": "code",
   "execution_count": null,
   "metadata": {},
   "outputs": [],
   "source": [
    "import os\n",
    "\n",
    "import numpy as np\n",
    "\n",
    "import mirage\n",
    "from mirage.catalogs import catalog_generator\n",
    "from mirage.catalogs import create_catalog"
   ]
  },
  {
   "cell_type": "code",
   "execution_count": null,
   "metadata": {},
   "outputs": [],
   "source": [
    "TEST_DATA_DIR = os.path.join(mirage.__path__[0], 'catalogs')"
   ]
  },
  {
   "cell_type": "markdown",
   "metadata": {},
   "source": [
    "## Table of Contents"
   ]
  },
  {
   "cell_type": "markdown",
   "metadata": {},
   "source": [
    "stuff here"
   ]
  },
  {
   "cell_type": "markdown",
   "metadata": {},
   "source": [
    "# Create Simple Catalogs from RA, Dec, magnitude lists"
   ]
  },
  {
   "cell_type": "markdown",
   "metadata": {},
   "source": [
    "## Point Source Catalogs"
   ]
  },
  {
   "cell_type": "markdown",
   "metadata": {},
   "source": [
    "### Create Catalog from lists of RA, Dec, and Magnitudes"
   ]
  },
  {
   "cell_type": "code",
   "execution_count": null,
   "metadata": {},
   "outputs": [],
   "source": [
    "# Read in information from a file\n",
    "example_point_source_file = os.path.join(TEST_DATA_DIRECTORY), 'catalog_input_data.txt'\n",
    "table = ascii.read(example_point_source_file) ...."
   ]
  },
  {
   "cell_type": "markdown",
   "metadata": {},
   "source": [
    "#### Create Lists of RA, Dec, with sources spread across an area equal to that of one detector"
   ]
  },
  {
   "cell_type": "code",
   "execution_count": null,
   "metadata": {},
   "outputs": [],
   "source": [
    "# NIRCam longwave detector width in units of degrees\n",
    "nircam_lw_detector_width = 2048. * 0.062 / 3600"
   ]
  },
  {
   "cell_type": "code",
   "execution_count": null,
   "metadata": {},
   "outputs": [],
   "source": [
    "number_of_sources = 10\n",
    "ra = np.random.random(number_of_sources) * nircam_lw_detector_width + 42.2\n",
    "dec = np.random.random(number_of_sources) * nircam_lw_detector_width - 24.4"
   ]
  },
  {
   "cell_type": "markdown",
   "metadata": {},
   "source": [
    "#### Create Lists of Magnitudes and Associated Filters"
   ]
  },
  {
   "cell_type": "code",
   "execution_count": null,
   "metadata": {},
   "outputs": [],
   "source": [
    "# Have target magnitudes between 15-25\n",
    "nircam_f150w_mags = np.random.random(number_of_sources) * 10 + 15\n",
    "nircam_f444w_mags = nircam_f150w_mags + np.random.random(number_of_sources) * 0.4\n",
    "niriss_f090w_mags = nircam_f150w_mags + np.random.random(number_of_sources) * 0.2"
   ]
  },
  {
   "cell_type": "markdown",
   "metadata": {},
   "source": [
    "#### First create the skeleton of the catalog by adding RA and Dec values"
   ]
  },
  {
   "cell_type": "code",
   "execution_count": null,
   "metadata": {},
   "outputs": [],
   "source": [
    "ptsrc = catalog_generator.PointSourceCatalog(ra=ra, dec=dec)"
   ]
  },
  {
   "cell_type": "markdown",
   "metadata": {},
   "source": [
    "Check out catalog properties"
   ]
  },
  {
   "cell_type": "code",
   "execution_count": null,
   "metadata": {},
   "outputs": [],
   "source": [
    "ptsrc.ra"
   ]
  },
  {
   "cell_type": "code",
   "execution_count": null,
   "metadata": {},
   "outputs": [],
   "source": [
    "ptsrc.dec"
   ]
  },
  {
   "cell_type": "markdown",
   "metadata": {},
   "source": [
    "#### Now add the magnitude lists one at a time"
   ]
  },
  {
   "cell_type": "code",
   "execution_count": null,
   "metadata": {},
   "outputs": [],
   "source": [
    "ptsrc.add_magnitude_column(nircam_f150w_mags, instrument='nircam', filter_name='f150w')\n",
    "ptsrc.add_magnitude_column(nircam_f444w_mags, instrument='nircam', filter_name='f444w')\n",
    "ptsrc.add_magnitude_column(niriss_f090w_mags, instrument='niriss', filter_name='f090w')"
   ]
  },
  {
   "cell_type": "markdown",
   "metadata": {},
   "source": [
    "#### Look at the resulting table"
   ]
  },
  {
   "cell_type": "code",
   "execution_count": null,
   "metadata": {},
   "outputs": [],
   "source": [
    "ptsrc.table"
   ]
  },
  {
   "cell_type": "markdown",
   "metadata": {},
   "source": [
    "Create a second catalog and add it to the first"
   ]
  },
  {
   "cell_type": "code",
   "execution_count": null,
   "metadata": {},
   "outputs": [],
   "source": [
    "num_sources2 = 5\n",
    "ra2 = np.random.random(num_sources2) * nircam_lw_detector_width + 42.2\n",
    "dec2 = np.random.random(num_sources2) * nircam_lw_detector_width - 24.4\n",
    "nircam_f480m_mags = np.random.random(num_sources2) * 10 + 15"
   ]
  },
  {
   "cell_type": "code",
   "execution_count": null,
   "metadata": {},
   "outputs": [],
   "source": [
    "ptsrc2 = catalog_generator.PointSourceCatalog(ra=ra2, dec=dec2)\n",
    "ptsrc2.add_magnitude_column(nircam_f480m_mags, instrument='nircam', filter_name='f480m')"
   ]
  },
  {
   "cell_type": "markdown",
   "metadata": {},
   "source": [
    "Location units (RA, Dec vs x, y), magnitude system (AB mag vs ST mag vs Vega mag) must match in the two catalogs in order to combine them.\n",
    "\n",
    "The two catalogs can have different numbers of sources. Fill values will be used in order to ensure that all columns are the same length.\n",
    "\n",
    "No attempt is made to look for or merge repeated sources in the catalogs. The second catalog is simply added to the end of the first."
   ]
  },
  {
   "cell_type": "code",
   "execution_count": null,
   "metadata": {},
   "outputs": [],
   "source": [
    "all_ptsrc = create_catalog.combine_anytype_catalogs(ptsrc, ptsrc2)"
   ]
  },
  {
   "cell_type": "code",
   "execution_count": null,
   "metadata": {},
   "outputs": [],
   "source": [
    "all_ptsrc.table"
   ]
  },
  {
   "cell_type": "code",
   "execution_count": null,
   "metadata": {},
   "outputs": [],
   "source": []
  },
  {
   "cell_type": "markdown",
   "metadata": {},
   "source": [
    "#### Save the table as a Mirage-formatted point source catalog"
   ]
  },
  {
   "cell_type": "code",
   "execution_count": null,
   "metadata": {},
   "outputs": [],
   "source": [
    "ptsrc.save('mirage_ptsrc_catalog_from_lists.cat')"
   ]
  },
  {
   "cell_type": "markdown",
   "metadata": {},
   "source": [
    "### If position inputs are in pixel (x,y) coordinates, use the \"x\" and \"y\" keywords"
   ]
  },
  {
   "cell_type": "code",
   "execution_count": null,
   "metadata": {},
   "outputs": [],
   "source": [
    "x = np.random.random(number_of_sources) * 2048.\n",
    "y = np.random.random(number_of_sources) * 2048."
   ]
  },
  {
   "cell_type": "code",
   "execution_count": null,
   "metadata": {},
   "outputs": [],
   "source": [
    "ptsrc_xy = catalog_generator.PointSourceCatalog(x=x, y=y)\n",
    "ptsrc_xy.add_magnitude_column(nircam_f150w_mags, instrument='nircam', filter_name='f150w')\n",
    "ptsrc_xy.add_magnitude_column(nircam_f444w_mags, instrument='nircam', filter_name='f444w')\n",
    "ptsrc_xy.add_magnitude_column(niriss_f090w_mags, instrument='niriss', filter_name='f090w')\n",
    "ptsrc_xy.save('mirage_ptsrc_xy_catalog_from_lists.cat')"
   ]
  },
  {
   "cell_type": "markdown",
   "metadata": {},
   "source": [
    "## Galaxy Catalogs"
   ]
  },
  {
   "cell_type": "markdown",
   "metadata": {},
   "source": [
    "### Create input data to go into the catalog"
   ]
  },
  {
   "cell_type": "code",
   "execution_count": null,
   "metadata": {},
   "outputs": [],
   "source": [
    "number_of_galaxies = 10\n",
    "galaxy_ra = np.random.random(number_of_galaxies) * nircam_lw_detector_width + 14.2\n",
    "galaxy_dec = np.random.random(number_of_galaxies) * nircam_lw_detector_width + -25.323\n",
    "radius = np.random.random(number_of_galaxies) * 0.5 + 0.02\n",
    "ellip = np.random.random(number_of_galaxies) * 0.8 + 0.02\n",
    "posang = np.random.random(number_of_galaxies) * 359\n",
    "sersic = np.random.random(number_of_galaxies) * 4 + 0.5\n",
    "\n",
    "nircam_f356w_mags = np.random.random(number_of_galaxies) * 10 + 13\n",
    "nircam_f480m_mags = nircam_f356w_mags + np.random.random(number_of_galaxies) * 0.4\n",
    "niriss_f200w_mags = nircam_f356w_mags + np.random.random(number_of_galaxies) * 0.2"
   ]
  },
  {
   "cell_type": "markdown",
   "metadata": {},
   "source": [
    "### Galaxy catalog object creation is similar to that for the point sources"
   ]
  },
  {
   "cell_type": "code",
   "execution_count": null,
   "metadata": {},
   "outputs": [],
   "source": [
    "# Specify that the units for the galactic radii are arcseconds. The other option is 'pixels'\n",
    "gal = catalog_generator.GalaxyCatalog(ra=galaxy_ra, dec=galaxy_dec, ellipticity=ellip, radius=radius,\n",
    "                                      sersic_index=sersic, position_angle=posang, radius_units='arcsec')"
   ]
  },
  {
   "cell_type": "code",
   "execution_count": null,
   "metadata": {},
   "outputs": [],
   "source": [
    "gal.add_magnitude_column(nircam_f356w_mags, instrument='nircam', filter_name='f356w')\n",
    "gal.add_magnitude_column(nircam_f480m_mags, instrument='nircam', filter_name='f480m')\n",
    "gal.add_magnitude_column(niriss_f200w_mags, instrument='niriss', filter_name='f200w')"
   ]
  },
  {
   "cell_type": "code",
   "execution_count": null,
   "metadata": {},
   "outputs": [],
   "source": [
    "gal.table"
   ]
  },
  {
   "cell_type": "code",
   "execution_count": null,
   "metadata": {},
   "outputs": [],
   "source": [
    "gal.save('example_galaxy_catalog.cat')"
   ]
  },
  {
   "cell_type": "markdown",
   "metadata": {},
   "source": [
    "# Query Outside Sources to Create Catalogs"
   ]
  },
  {
   "cell_type": "markdown",
   "metadata": {},
   "source": [
    "Define a specific pointing and sky area to use for queries"
   ]
  },
  {
   "cell_type": "code",
   "execution_count": null,
   "metadata": {},
   "outputs": [],
   "source": [
    "central_ra = 15.56\n",
    "central_dec = -34.45\n",
    "catalog_width = 125  # arcseconds"
   ]
  },
  {
   "cell_type": "markdown",
   "metadata": {},
   "source": [
    "## Get sources from 2MASS All-Sky Point Source Catalog in the region of interest"
   ]
  },
  {
   "cell_type": "markdown",
   "metadata": {},
   "source": [
    "Note that in this case, 2MASS magnitudes are returned directly from the 2MASS catalog. No attempt is made to translate into magnitudes for any JWST instrument/filter"
   ]
  },
  {
   "cell_type": "code",
   "execution_count": null,
   "metadata": {},
   "outputs": [],
   "source": [
    "twomass_cat, twomass_query = create_catalog.get_2MASS_ptsrc_catalog(central_ra, central_dec, catalog_width)"
   ]
  },
  {
   "cell_type": "markdown",
   "metadata": {},
   "source": [
    "`get_2MASS_ptsrc_catalog` returns a tuple containing the Mirage-formatted source catalog as well as the original table produced by the query to the 2MASS database."
   ]
  },
  {
   "cell_type": "code",
   "execution_count": null,
   "metadata": {},
   "outputs": [],
   "source": [
    "# Mirage-formatted catalog: containing 2MASS J, H, and K magnitudes\n",
    "twomass_cat.table"
   ]
  },
  {
   "cell_type": "code",
   "execution_count": null,
   "metadata": {},
   "outputs": [],
   "source": [
    "# Save results\n",
    "twomass_cat.save('my_example_2mass_catalog.cat')"
   ]
  },
  {
   "cell_type": "code",
   "execution_count": null,
   "metadata": {},
   "outputs": [],
   "source": [
    "# Query results: containing all information on sources\n",
    "twomass_query"
   ]
  },
  {
   "cell_type": "markdown",
   "metadata": {},
   "source": [
    "## Get sources from WISE All-Sky Point Source Catalog in the region of interest"
   ]
  },
  {
   "cell_type": "markdown",
   "metadata": {},
   "source": [
    "Again, this function returns a catalog with source magnitudes in the WISE bands. No attempt is made to translate to JWST filter magnitudes."
   ]
  },
  {
   "cell_type": "code",
   "execution_count": null,
   "metadata": {},
   "outputs": [],
   "source": [
    "wise_cat, wise_query = create_catalog.get_wise_ptsrc_catalog(central_ra, central_dec, catalog_width)"
   ]
  },
  {
   "cell_type": "code",
   "execution_count": null,
   "metadata": {},
   "outputs": [],
   "source": [
    "# Mirage-formatted catalog: containing WISE ?, ?, ? magnitudes\n",
    "wise_cat.table"
   ]
  },
  {
   "cell_type": "code",
   "execution_count": null,
   "metadata": {},
   "outputs": [],
   "source": [
    "# Save result\n",
    "wise_cat.save('my_example_wise_catalog.cat')"
   ]
  },
  {
   "cell_type": "code",
   "execution_count": null,
   "metadata": {},
   "outputs": [],
   "source": [
    "# Query results: containing all information on sources\n",
    "wise_query"
   ]
  },
  {
   "cell_type": "markdown",
   "metadata": {},
   "source": [
    "## Get sources from GAIA All-Sky Point Source Catalog in the region of interest"
   ]
  },
  {
   "cell_type": "markdown",
   "metadata": {},
   "source": [
    "The GAIA search returns a Mirage-formatted catalog and the full results of the query from the GAIA database. It also returns tables containing 2MASS and WISE cross-matching references."
   ]
  },
  {
   "cell_type": "code",
   "execution_count": null,
   "metadata": {},
   "outputs": [],
   "source": [
    "gaia_cat, gaia_query, gaia_2mass_crossref, gaia_wise_crossref = \\\n",
    "  create_catalog.get_gaia_ptsrc_catalog(central_ra, central_dec, catalog_width)"
   ]
  },
  {
   "cell_type": "code",
   "execution_count": null,
   "metadata": {},
   "outputs": [],
   "source": [
    "# Mirage-formatted catalog: containing GAIA ?, ?, ? magnitudes\n",
    "gaia_cat.table"
   ]
  },
  {
   "cell_type": "code",
   "execution_count": null,
   "metadata": {},
   "outputs": [],
   "source": [
    "# Save result\n",
    "gaia_cat.save('my_example_gaia_catalog.cat')"
   ]
  },
  {
   "cell_type": "code",
   "execution_count": null,
   "metadata": {},
   "outputs": [],
   "source": [
    "gaia_query"
   ]
  },
  {
   "cell_type": "code",
   "execution_count": null,
   "metadata": {},
   "outputs": [],
   "source": [
    "gaia_2mass_crossref"
   ]
  },
  {
   "cell_type": "code",
   "execution_count": null,
   "metadata": {},
   "outputs": [],
   "source": [
    "gaia_wise_crossref"
   ]
  },
  {
   "cell_type": "markdown",
   "metadata": {},
   "source": [
    "## Create a catalog of representative stars, using the Besancon model"
   ]
  },
  {
   "cell_type": "markdown",
   "metadata": {},
   "source": [
    "Full documentation on the Besancon model queried by Mirage is available here: http://model.obs-besancon.fr/"
   ]
  },
  {
   "cell_type": "markdown",
   "metadata": {},
   "source": [
    "Create a dictionary containing the filters in which you would like the returned Besancon magnitudes"
   ]
  },
  {
   "cell_type": "code",
   "execution_count": null,
   "metadata": {},
   "outputs": [],
   "source": [
    "filter_dict = {'nircam': ['F115W', 'F182M', 'F356W', 'F480M'],\n",
    "               'niriss': ['F200W', 'F356W']}"
   ]
  },
  {
   "cell_type": "markdown",
   "metadata": {},
   "source": [
    "You may also optionally specify a seed for the random number generator used to create the RA and Dec values for the stars. By providing a seed, the positions of the stars can be replicated in future calls. Omitting the seed (or setting to None) in the call to `besancon_catalog` below will result in the seed being created by `numpy`."
   ]
  },
  {
   "cell_type": "code",
   "execution_count": null,
   "metadata": {},
   "outputs": [],
   "source": [
    "seed = 12345"
   ]
  },
  {
   "cell_type": "markdown",
   "metadata": {},
   "source": [
    "The call to the Besancon model also requires an email address as input"
   ]
  },
  {
   "cell_type": "code",
   "execution_count": null,
   "metadata": {},
   "outputs": [],
   "source": [
    "email = 'hilbert@stsci.edu'"
   ]
  },
  {
   "cell_type": "markdown",
   "metadata": {},
   "source": [
    "K-magnitude limits for the returned catalog are also optional inputs. The defaults are to return sources with K betwen 13 and 29."
   ]
  },
  {
   "cell_type": "code",
   "execution_count": null,
   "metadata": {},
   "outputs": [],
   "source": [
    "limits=(13, 29)"
   ]
  },
  {
   "cell_type": "markdown",
   "metadata": {},
   "source": [
    "Create the catalog, and save to a file"
   ]
  },
  {
   "cell_type": "code",
   "execution_count": null,
   "metadata": {},
   "outputs": [],
   "source": [
    "besancon_output_file = 'example_besanson_catalog_jwst_mags.cat'\n",
    "besancon_cat = create_catalog.besancon_catalog(central_ra, central_dec, catalog_width,\n",
    "                                               filter_dict, coords='ra_dec',\n",
    "                                               kmag_limits=limits, email=email, seed=seed,\n",
    "                                               output_file=besancon_output_file)"
   ]
  },
  {
   "cell_type": "markdown",
   "metadata": {},
   "source": [
    "As with the other catalog queries, this call returns the Mirage-formatted catalog in addition to the full query results"
   ]
  },
  {
   "cell_type": "code",
   "execution_count": null,
   "metadata": {},
   "outputs": [],
   "source": [
    "besancon_cat.table"
   ]
  },
  {
   "cell_type": "markdown",
   "metadata": {},
   "source": [
    "## Putting it all together: Search 2MASS, GAIA, WISE. Crossmatch and interpolate magnitudes to JWST filters"
   ]
  },
  {
   "cell_type": "markdown",
   "metadata": {},
   "source": [
    "Create a list of filters to which the point source magnitudes will be interpolated. Currently this function supports filters from only one instrument at a time. Catalogs from multuple instruments can be combined in the next step."
   ]
  },
  {
   "cell_type": "code",
   "execution_count": null,
   "metadata": {},
   "outputs": [],
   "source": [
    "nrc_filter_list = ['F115W', 'F182M', 'F356W', 'F480M']"
   ]
  },
  {
   "cell_type": "code",
   "execution_count": null,
   "metadata": {},
   "outputs": [],
   "source": [
    "nircam_cat, nircam_filters = create_catalog.get_all_catalogs(central_ra, central_dec, catalog_width,\n",
    "                                                            instrument='nircam', filters=nrc_filter_list,\n",
    "                                                            email=email, besancon_seed=seed)"
   ]
  },
  {
   "cell_type": "code",
   "execution_count": null,
   "metadata": {},
   "outputs": [],
   "source": [
    "nircam_cat.table"
   ]
  },
  {
   "cell_type": "code",
   "execution_count": null,
   "metadata": {},
   "outputs": [],
   "source": [
    "nis_filter_list = ['F200W', 'F356W']"
   ]
  },
  {
   "cell_type": "code",
   "execution_count": null,
   "metadata": {},
   "outputs": [],
   "source": [
    "niriss_cat, niriss_filters = create_catalog.get_all_catalogs(central_ra, central_dec, catalog_width,\n",
    "                                                             instrument='niriss', filters=nis_filter_list,\n",
    "                                                             email=email, besancon_seed=seed)"
   ]
  },
  {
   "cell_type": "code",
   "execution_count": null,
   "metadata": {},
   "outputs": [],
   "source": [
    "niriss_cat.table"
   ]
  },
  {
   "cell_type": "code",
   "execution_count": null,
   "metadata": {},
   "outputs": [],
   "source": [
    "# At this point, check to see if the sources returned by Besancon are the same in the two cases.\n",
    "# If so then we can combine the two catalogs. If not, we may need to think about how to handle this."
   ]
  },
  {
   "cell_type": "code",
   "execution_count": null,
   "metadata": {},
   "outputs": [],
   "source": []
  },
  {
   "cell_type": "code",
   "execution_count": null,
   "metadata": {},
   "outputs": [],
   "source": []
  },
  {
   "cell_type": "code",
   "execution_count": null,
   "metadata": {},
   "outputs": [],
   "source": [
    "# Play with Besancon transformation, since users may want a simple Besancon model and nothing else"
   ]
  },
  {
   "cell_type": "code",
   "execution_count": null,
   "metadata": {},
   "outputs": [],
   "source": []
  },
  {
   "cell_type": "code",
   "execution_count": null,
   "metadata": {},
   "outputs": [],
   "source": [
    "nircam_filters = create_catalog.make_filter_names('nircam', nrc_filter_list)\n",
    "niriss_filters = create_catalog.make_filter_names('niriss', nis_filter_list)\n",
    "all_filters = nircam_filters + niriss_filters"
   ]
  },
  {
   "cell_type": "code",
   "execution_count": null,
   "metadata": {},
   "outputs": [],
   "source": [
    "newmags = create_catalog.transform_besancon(background, background_cat, 'nircam', all_filters)"
   ]
  },
  {
   "cell_type": "code",
   "execution_count": null,
   "metadata": {},
   "outputs": [],
   "source": [
    "newmags.shape"
   ]
  },
  {
   "cell_type": "code",
   "execution_count": null,
   "metadata": {},
   "outputs": [],
   "source": [
    "transformed_besancon_cat = catalog_generator.PointSourceCatalog(ra=background.table['x_or_RA'].data,\n",
    "                                                                dec=background.table['y_or_Dec'].data)\n",
    "for mags, filt in zip(newmags.transpose(), all_filters):\n",
    "    instrument, filter_name, _ = filt.split('_')\n",
    "    transformed_besancon_cat.add_magnitude_column(mags, instrument=instrument, filter_name=filter_name)"
   ]
  },
  {
   "cell_type": "code",
   "execution_count": null,
   "metadata": {},
   "outputs": [],
   "source": [
    "transformed_besancon_cat.table"
   ]
  },
  {
   "cell_type": "code",
   "execution_count": null,
   "metadata": {},
   "outputs": [],
   "source": [
    "transformed_besancon_cat.save('besancon_catalog.cat')"
   ]
  },
  {
   "cell_type": "code",
   "execution_count": null,
   "metadata": {},
   "outputs": [],
   "source": []
  },
  {
   "cell_type": "code",
   "execution_count": null,
   "metadata": {},
   "outputs": [],
   "source": [
    "filters = {'nircam': nrc_filter_list, 'niriss': nis_filter_list}\n",
    "newcat = besancon_catalog(central_ra, central_dec, catalog_width, filters, coords='ra_dec',\n",
    "                          kmag_limits=(13, 29), email='hilbert@stsci.edu',\n",
    "                          seeds=[None, None], output_file=None)"
   ]
  },
  {
   "cell_type": "code",
   "execution_count": null,
   "metadata": {},
   "outputs": [],
   "source": [
    "newcat.table"
   ]
  },
  {
   "cell_type": "code",
   "execution_count": null,
   "metadata": {},
   "outputs": [],
   "source": []
  },
  {
   "cell_type": "code",
   "execution_count": null,
   "metadata": {},
   "outputs": [],
   "source": []
  },
  {
   "cell_type": "code",
   "execution_count": null,
   "metadata": {},
   "outputs": [],
   "source": [
    "ptsrc.table"
   ]
  },
  {
   "cell_type": "code",
   "execution_count": null,
   "metadata": {},
   "outputs": [],
   "source": [
    "ptsrc2.table"
   ]
  },
  {
   "cell_type": "code",
   "execution_count": null,
   "metadata": {},
   "outputs": [],
   "source": [
    "from astropy.table import join"
   ]
  },
  {
   "cell_type": "code",
   "execution_count": null,
   "metadata": {},
   "outputs": [],
   "source": [
    "join(ptsrc.table, ptsrc2.table, keys=['x_or_RA', 'y_or_Dec'], join_type='outer')"
   ]
  },
  {
   "cell_type": "code",
   "execution_count": null,
   "metadata": {},
   "outputs": [],
   "source": [
    "newtab = join(ptsrc.table, ptsrc2.table, keys=['x_or_RA', 'y_or_Dec'], join_type='outer')"
   ]
  },
  {
   "cell_type": "code",
   "execution_count": null,
   "metadata": {},
   "outputs": [],
   "source": [
    "newtab['nircam_f150w_magnitude'].data"
   ]
  },
  {
   "cell_type": "code",
   "execution_count": null,
   "metadata": {},
   "outputs": [],
   "source": [
    "newtab.filled()"
   ]
  },
  {
   "cell_type": "code",
   "execution_count": null,
   "metadata": {},
   "outputs": [],
   "source": [
    "def combine_catalogs(cat1, cat2, fill_value=1e20):\n",
    "    \"\"\"Combine two Mirage catalog objects\"\"\"\n",
    "    combined = join(cat1.table, cat2.table, keys=['x_or_RA', 'y_or_Dec'],\n",
    "                    join_type='outer').filled()\n",
    "    new_cat = catalog_generator.PointSourceCatalog(ra=combined['x_or_RA'].data,\n",
    "                                                   dec=combined['y_or_Dec'].data)\n",
    "    mag_cols = [colname for colname in combined.colnames if 'magnitude' in colname]\n",
    "    for col in mag_cols:\n",
    "        instrument, filter_name, _ = col.split('_') \n",
    "        new_cat.add_magnitude_column(combined[col].data, instrument=instrument, filter_name=filter_name)\n",
    "    return new_cat"
   ]
  },
  {
   "cell_type": "code",
   "execution_count": null,
   "metadata": {},
   "outputs": [],
   "source": [
    "combined_cat = combine_catalogs(ptsrc, ptsrc2)"
   ]
  },
  {
   "cell_type": "code",
   "execution_count": null,
   "metadata": {
    "scrolled": true
   },
   "outputs": [],
   "source": [
    "combined_cat.table"
   ]
  },
  {
   "cell_type": "code",
   "execution_count": null,
   "metadata": {},
   "outputs": [],
   "source": [
    "isinstance(ptsrc, mirage.catalogs.catalog_generator.PointSourceCatalog)"
   ]
  },
  {
   "cell_type": "code",
   "execution_count": null,
   "metadata": {},
   "outputs": [],
   "source": [
    "ptsrc.location_units"
   ]
  },
  {
   "cell_type": "code",
   "execution_count": null,
   "metadata": {},
   "outputs": [],
   "source": []
  },
  {
   "cell_type": "code",
   "execution_count": null,
   "metadata": {},
   "outputs": [],
   "source": []
  },
  {
   "cell_type": "code",
   "execution_count": null,
   "metadata": {},
   "outputs": [],
   "source": []
  },
  {
   "cell_type": "code",
   "execution_count": null,
   "metadata": {},
   "outputs": [],
   "source": []
  },
  {
   "cell_type": "code",
   "execution_count": null,
   "metadata": {},
   "outputs": [],
   "source": [
    "num_sources2 = 5\n",
    "ra2 = np.random.random(num_sources2) * nircam_lw_detector_width + 42.2\n",
    "dec2 = np.random.random(num_sources2) * nircam_lw_detector_width - 24.4\n",
    "nircam_f480m_mags = np.random.random(num_sources2) * 10 + 15\n",
    "ptsrc3 = catalog_generator.PointSourceCatalog(ra=ra2, dec=dec2)\n",
    "ptsrc3.add_magnitude_column(nircam_f480m_mags, instrument='nircam', filter_name='f480m')"
   ]
  },
  {
   "cell_type": "code",
   "execution_count": null,
   "metadata": {},
   "outputs": [],
   "source": [
    "num_sources2 = 5\n",
    "ra4 = np.random.random(num_sources2) * nircam_lw_detector_width + 42.2\n",
    "dec4 = np.random.random(num_sources2) * nircam_lw_detector_width - 24.4\n",
    "nircam_f480m_mags_2 = np.random.random(num_sources2) * 10 + 15\n",
    "ptsrc4 = catalog_generator.PointSourceCatalog(ra=ra4, dec=dec4)\n",
    "ptsrc4.add_magnitude_column(nircam_f480m_mags_2, instrument='nircam', filter_name='f480m')"
   ]
  },
  {
   "cell_type": "code",
   "execution_count": null,
   "metadata": {},
   "outputs": [],
   "source": [
    "ptsrc3.table"
   ]
  },
  {
   "cell_type": "code",
   "execution_count": null,
   "metadata": {},
   "outputs": [],
   "source": [
    "ptsrc4.table"
   ]
  },
  {
   "cell_type": "code",
   "execution_count": null,
   "metadata": {},
   "outputs": [],
   "source": [
    "volk = create_catalog.combine_catalogs(ptsrc3, ptsrc4)"
   ]
  },
  {
   "cell_type": "code",
   "execution_count": null,
   "metadata": {},
   "outputs": [],
   "source": [
    "hilb = create_catalog.combine_anytype_catalogs(ptsrc3, ptsrc4)"
   ]
  },
  {
   "cell_type": "code",
   "execution_count": null,
   "metadata": {},
   "outputs": [],
   "source": [
    "from astropy.table import join"
   ]
  },
  {
   "cell_type": "code",
   "execution_count": null,
   "metadata": {},
   "outputs": [],
   "source": [
    "comb = join(ptsrc3.table, ptsrc4.table, join_type='outer').filled()"
   ]
  },
  {
   "cell_type": "code",
   "execution_count": null,
   "metadata": {},
   "outputs": [],
   "source": [
    "comb"
   ]
  },
  {
   "cell_type": "code",
   "execution_count": null,
   "metadata": {},
   "outputs": [],
   "source": [
    "ptsrc3.table"
   ]
  },
  {
   "cell_type": "code",
   "execution_count": null,
   "metadata": {},
   "outputs": [],
   "source": []
  },
  {
   "cell_type": "code",
   "execution_count": null,
   "metadata": {},
   "outputs": [],
   "source": []
  },
  {
   "cell_type": "code",
   "execution_count": null,
   "metadata": {},
   "outputs": [],
   "source": [
    "comb = join(ptsrc.table, ptsrc2.table, join_type='outer').filled()"
   ]
  },
  {
   "cell_type": "code",
   "execution_count": null,
   "metadata": {},
   "outputs": [],
   "source": [
    "comb"
   ]
  },
  {
   "cell_type": "code",
   "execution_count": null,
   "metadata": {},
   "outputs": [],
   "source": [
    "ptsrc2.table"
   ]
  },
  {
   "cell_type": "code",
   "execution_count": null,
   "metadata": {},
   "outputs": [],
   "source": []
  }
 ],
 "metadata": {
  "kernelspec": {
   "display_name": "Python 3",
   "language": "python",
   "name": "python3"
  },
  "language_info": {
   "codemirror_mode": {
    "name": "ipython",
    "version": 3
   },
   "file_extension": ".py",
   "mimetype": "text/x-python",
   "name": "python",
   "nbconvert_exporter": "python",
   "pygments_lexer": "ipython3",
   "version": "3.6.6"
  }
 },
 "nbformat": 4,
 "nbformat_minor": 2
}
