{
 "cells": [
  {
   "cell_type": "markdown",
   "metadata": {},
   "source": [
    "# Use Mirage to Create Source Catalogs"
   ]
  },
  {
   "cell_type": "markdown",
   "metadata": {},
   "source": [
    "Mirage contains some functionality for creating source catalogs that can be used when creating simulated data. This notebook shows examples of how to use these functions. When working from APT xml and pointing files, catalogs must be generated prior to calling the `yaml_generator` to create the input yaml files."
   ]
  },
  {
   "cell_type": "code",
   "execution_count": null,
   "metadata": {},
   "outputs": [],
   "source": [
    "import os\n",
    "\n",
    "import numpy as np\n",
    "\n",
    "from mirage.catalogs import catalog_generator\n",
    "from mirage.catalogs import create_catalog"
   ]
  },
  {
   "cell_type": "code",
   "execution_count": null,
   "metadata": {},
   "outputs": [],
   "source": [
    "TEST_DATA_DIR = os.path.join(os.path.dirname(__file__), 'catalogs')"
   ]
  },
  {
   "cell_type": "code",
   "execution_count": null,
   "metadata": {},
   "outputs": [],
   "source": []
  },
  {
   "cell_type": "markdown",
   "metadata": {},
   "source": [
    "## Table of Contents"
   ]
  },
  {
   "cell_type": "markdown",
   "metadata": {},
   "source": [
    "stuff here"
   ]
  },
  {
   "cell_type": "markdown",
   "metadata": {},
   "source": [
    "# Create Simple Catalogs from RA, Dec, magnitude lists"
   ]
  },
  {
   "cell_type": "markdown",
   "metadata": {},
   "source": [
    "## Point Source Catalogs"
   ]
  },
  {
   "cell_type": "markdown",
   "metadata": {},
   "source": [
    "### Create Catalog from lists of RA, Dec, and Magnitudes"
   ]
  },
  {
   "cell_type": "code",
   "execution_count": null,
   "metadata": {},
   "outputs": [],
   "source": [
    "# Read in information from a file\n",
    "example_point_source_file = os.path.join(TEST_DATA_DIRECTORY), 'catalog_input_data.txt'\n",
    "table = ascii.read(example_point_source_file) ...."
   ]
  },
  {
   "cell_type": "markdown",
   "metadata": {},
   "source": [
    "#### Create Lists of RA, Dec"
   ]
  },
  {
   "cell_type": "code",
   "execution_count": null,
   "metadata": {},
   "outputs": [],
   "source": [
    "# NIRCam longwave detector width in units of degrees\n",
    "nircam_lw_detector_width = 2048. * 0.062 / 3600"
   ]
  },
  {
   "cell_type": "code",
   "execution_count": null,
   "metadata": {},
   "outputs": [],
   "source": [
    "number_of_sources = 50\n",
    "ra = np.random.random(number_of_sources) * nircam_lw_detector_width + 42.2\n",
    "dec = np.random.random(number_of_sources) * nircam_lw_detector_width - 24.4"
   ]
  },
  {
   "cell_type": "markdown",
   "metadata": {},
   "source": [
    "#### Create Lists of Magnitudes and Associated Filters"
   ]
  },
  {
   "cell_type": "code",
   "execution_count": null,
   "metadata": {},
   "outputs": [],
   "source": [
    "# Have target magnitudes betwee 15-25\n",
    "nircam_f150w_mags = np.random.random(number_of_sources) * 10 + 15\n",
    "nircam_f444w_mags = nircam_f150w_mags + np.random.random(number_of_sources) * 0.4\n",
    "niriss_f090w_mags = nircam_f150w_mags + np.random.random(number_of_sources) * 0.2"
   ]
  },
  {
   "cell_type": "markdown",
   "metadata": {},
   "source": [
    "#### First create the skeleton of the catalog by adding RA and Dec values"
   ]
  },
  {
   "cell_type": "code",
   "execution_count": null,
   "metadata": {},
   "outputs": [],
   "source": [
    "ptsrc = catalog_generator.PointSourceCatalog(ra=ra, dec=dec)"
   ]
  },
  {
   "cell_type": "markdown",
   "metadata": {},
   "source": [
    "#### Now add the magnitude lists one at a time"
   ]
  },
  {
   "cell_type": "code",
   "execution_count": null,
   "metadata": {},
   "outputs": [],
   "source": [
    "ptsrc.add_magnitude_column(nircam_f150w_mags, instrument='nircam', filter_name='f150w')\n",
    "ptsrc.add_magnitude_column(nircam_f444w_mags, instrument='nircam', filter_name='f444w')\n",
    "ptsrc.add_magnitude_column(niriss_f090w_mags, instrument='niriss', filter_name='f090w')"
   ]
  },
  {
   "cell_type": "markdown",
   "metadata": {},
   "source": [
    "#### Look at the resulting table"
   ]
  },
  {
   "cell_type": "code",
   "execution_count": null,
   "metadata": {},
   "outputs": [],
   "source": [
    "ptsrc.table"
   ]
  },
  {
   "cell_type": "markdown",
   "metadata": {},
   "source": [
    "#### Save the table as a Mirage-formatted point source catalog"
   ]
  },
  {
   "cell_type": "code",
   "execution_count": null,
   "metadata": {},
   "outputs": [],
   "source": [
    "ptsrc.save('mirage_ptsrc_catalog_from_lists.cat')"
   ]
  },
  {
   "cell_type": "markdown",
   "metadata": {},
   "source": [
    "### If position inputs are in pixel (x,y) coordinates, use the \"x\" and \"y\" keywords"
   ]
  },
  {
   "cell_type": "code",
   "execution_count": null,
   "metadata": {},
   "outputs": [],
   "source": [
    "x = np.random.random(number_of_sources) * 2048.\n",
    "y = np.random.random(number_of_sources) * 2048."
   ]
  },
  {
   "cell_type": "code",
   "execution_count": null,
   "metadata": {},
   "outputs": [],
   "source": [
    "ptsrc_xy = catalog_generator.PointSourceCatalog(x=x, y=y)\n",
    "ptsrc_xy.add_magnitude_column(nircam_f150w_mags, instrument='nircam', filter_name='f150w')\n",
    "ptsrc_xy.add_magnitude_column(nircam_f444w_mags, instrument='nircam', filter_name='f444w')\n",
    "ptsrc_xy.add_magnitude_column(niriss_f090w_mags, instrument='niriss', filter_name='f090w')\n",
    "ptsrc_xy.save('mirage_ptsrc_xy_catalog_from_lists.cat')"
   ]
  },
  {
   "cell_type": "markdown",
   "metadata": {},
   "source": [
    "## Galaxy Catalogs"
   ]
  },
  {
   "cell_type": "markdown",
   "metadata": {},
   "source": [
    "### Create input data to go into the catalog"
   ]
  },
  {
   "cell_type": "code",
   "execution_count": null,
   "metadata": {},
   "outputs": [],
   "source": [
    "number_of_galaxies = 10\n",
    "galaxy_ra = np.random.random(number_of_galaxies) * nircam_lw_detector_width + 14.2\n",
    "galaxy_dec = np.random.random(number_of_galaxies) * nircam_lw_detector_width + -25.323\n",
    "radius = np.random.random(number_of_galaxies) * 0.5 + 0.02\n",
    "ellip = np.random.random(number_of_galaxies) * 0.8 + 0.02\n",
    "posang = np.random.random(number_of_galaxies) * 359\n",
    "sersic = np.random.random(number_of_galaxies) * 4 + 0.5\n",
    "\n",
    "nircam_f356w_mags = np.random.random(number_of_galaxies) * 10 + 13\n",
    "nircam_f480m_mags = nircam_f356w_mags + np.random.random(number_of_galaxies) * 0.4\n",
    "niriss_f200w_mags = nircam_f356w_mags + np.random.random(number_of_galaxies) * 0.2"
   ]
  },
  {
   "cell_type": "markdown",
   "metadata": {},
   "source": [
    "### Galaxy catalog object creation is similar to that for the point sources"
   ]
  },
  {
   "cell_type": "code",
   "execution_count": null,
   "metadata": {},
   "outputs": [],
   "source": [
    "# Specify that the units for the galactic radii are arcseconds. The other option is 'pixels'\n",
    "gal = catalog_generator.GalaxyCatalog(ra=galaxy_ra, dec=galaxy_dec, ellipticity=ellip, radius=radius,\n",
    "                                      sersic_index=sersic, position_angle=posang, radius_units='arcsec')"
   ]
  },
  {
   "cell_type": "code",
   "execution_count": null,
   "metadata": {},
   "outputs": [],
   "source": [
    "gal.add_magnitude_column(nircam_f356w_mags, instrument='nircam', filter_name='f356w')\n",
    "gal.add_magnitude_column(nircam_f480m_mags, instrument='nircam', filter_name='f480m')\n",
    "gal.add_magnitude_column(niriss_f200w_mags, instrument='niriss', filter_name='f200w')"
   ]
  },
  {
   "cell_type": "code",
   "execution_count": null,
   "metadata": {},
   "outputs": [],
   "source": [
    "gal.table"
   ]
  },
  {
   "cell_type": "code",
   "execution_count": null,
   "metadata": {},
   "outputs": [],
   "source": [
    "gal.save('example_galaxy_catalog.cat')"
   ]
  },
  {
   "cell_type": "markdown",
   "metadata": {},
   "source": [
    "# Query Outside Sources to Create Catalogs"
   ]
  },
  {
   "cell_type": "markdown",
   "metadata": {},
   "source": [
    "Define a specific pointing and sky area to use for queries"
   ]
  },
  {
   "cell_type": "code",
   "execution_count": null,
   "metadata": {},
   "outputs": [],
   "source": [
    "central_ra = 15.56\n",
    "central_dec = -34.45\n",
    "catalog_width = 125  # arcseconds"
   ]
  },
  {
   "cell_type": "markdown",
   "metadata": {},
   "source": [
    "## Get sources from 2MASS All-Sky Point Source Catalog in the region of interest"
   ]
  },
  {
   "cell_type": "markdown",
   "metadata": {},
   "source": [
    "#### Note that in this case, 2MASS magnitudes are returned directly from the 2MASS catalog. No attempt is made to translate into magnitudes for any JWST instrument/filter"
   ]
  },
  {
   "cell_type": "code",
   "execution_count": null,
   "metadata": {},
   "outputs": [],
   "source": [
    "twomass_cat, twomass_query = create_catalog.get_2MASS_ptsrc_catalog(central_ra, central_dec, catalog_width)"
   ]
  },
  {
   "cell_type": "markdown",
   "metadata": {},
   "source": [
    "#### `get_2MASS_ptsrc_catalog` returns a tuple containing the Mirage-formatted source catalog as well as the original table produced by the query to the 2MASS database."
   ]
  },
  {
   "cell_type": "code",
   "execution_count": null,
   "metadata": {},
   "outputs": [],
   "source": [
    "# Mirage-formatted catalog: containing 2MASS J, H, and K magnitudes\n",
    "twomass_cat.save('my_example_2mass_catalog.cat')\n",
    "twomass_cat.table"
   ]
  },
  {
   "cell_type": "code",
   "execution_count": null,
   "metadata": {},
   "outputs": [],
   "source": [
    "# Query results: containing all information on sources\n",
    "twomass_query"
   ]
  },
  {
   "cell_type": "markdown",
   "metadata": {},
   "source": [
    "## Get sources from WISE All-Sky Point Source Catalog in the region of interest"
   ]
  },
  {
   "cell_type": "code",
   "execution_count": null,
   "metadata": {},
   "outputs": [],
   "source": [
    "wise_cat, wise_query = create_catalog.get_WISE_ptsrc_catalog(central_ra, central_dec, catalog_width)"
   ]
  },
  {
   "cell_type": "code",
   "execution_count": null,
   "metadata": {},
   "outputs": [],
   "source": [
    "# Mirage-formatted catalog: containing WISE ?, ?, ? magnitudes\n",
    "wise_cat.save('my_example_wise_catalog.cat')\n",
    "wise_cat.table"
   ]
  },
  {
   "cell_type": "code",
   "execution_count": null,
   "metadata": {},
   "outputs": [],
   "source": [
    "# Query results: containing all information on sources\n",
    "wise_query"
   ]
  },
  {
   "cell_type": "markdown",
   "metadata": {},
   "source": [
    "## Get sources from GAIA All-Sky Point Source Catalog in the region of interest"
   ]
  },
  {
   "cell_type": "markdown",
   "metadata": {},
   "source": [
    "The GAIA search returns a Mirage-formatted catalog and the full results of the query from the GAIA database. It also returns tables containing 2MASS and WISE cross-matching references."
   ]
  },
  {
   "cell_type": "code",
   "execution_count": null,
   "metadata": {},
   "outputs": [],
   "source": [
    "gaia_cat, gaia_query, gaia_2mass_crossref, gaia_wise_crossref = \\\n",
    "  create_catalog.get_gaia_ptsrc_catalog(central_ra, central_dec, catalog_width)"
   ]
  },
  {
   "cell_type": "code",
   "execution_count": null,
   "metadata": {},
   "outputs": [],
   "source": [
    "# Mirage-formatted catalog: containing GAIA ?, ?, ? magnitudes\n",
    "gaia_cat.save('my_example_gaia_catalog.cat')\n",
    "gaia_cat.table"
   ]
  },
  {
   "cell_type": "code",
   "execution_count": null,
   "metadata": {},
   "outputs": [],
   "source": [
    "gaia_query"
   ]
  },
  {
   "cell_type": "code",
   "execution_count": null,
   "metadata": {},
   "outputs": [],
   "source": [
    "gaia_2mass_crossref"
   ]
  },
  {
   "cell_type": "code",
   "execution_count": null,
   "metadata": {},
   "outputs": [],
   "source": [
    "gaia_wise_crossref"
   ]
  },
  {
   "cell_type": "markdown",
   "metadata": {},
   "source": [
    "## Create a catalog of representative stars, using the Besancon model"
   ]
  },
  {
   "cell_type": "markdown",
   "metadata": {},
   "source": [
    "Full documentation on the Besancon model queried by Mirage is available here: http://model.obs-besancon.fr/"
   ]
  },
  {
   "cell_type": "markdown",
   "metadata": {},
   "source": [
    "Create a dictionary containing the filters in which you would like the returned Besancon magnitudes"
   ]
  },
  {
   "cell_type": "code",
   "execution_count": null,
   "metadata": {},
   "outputs": [],
   "source": [
    "filter_dict = {'nircam': ['F115W', 'F182M', 'F356W', 'F480M'],\n",
    "               'niriss': ['F200W', 'F356W']}"
   ]
  },
  {
   "cell_type": "markdown",
   "metadata": {},
   "source": [
    "You may also optionally specify seeds for the random number generators used to create the RA and Dec values for the stars. By providing seeds, the positions of the stars can be replicated in future calls"
   ]
  },
  {
   "cell_type": "code",
   "execution_count": null,
   "metadata": {},
   "outputs": [],
   "source": [
    "ra_seed = 12345\n",
    "dec_seed = 12346\n",
    "seeds = (ra_seed, dec_seed)"
   ]
  },
  {
   "cell_type": "markdown",
   "metadata": {},
   "source": [
    "The call to the Besancon model also requires an email address as input"
   ]
  },
  {
   "cell_type": "code",
   "execution_count": null,
   "metadata": {},
   "outputs": [],
   "source": [
    "email = 'hilbert@stsci.edu'"
   ]
  },
  {
   "cell_type": "markdown",
   "metadata": {},
   "source": [
    "K-magnitude limits for the returned catalog are also optional inputs. The defaults are to return sources with K betwen 13 and 29."
   ]
  },
  {
   "cell_type": "code",
   "execution_count": null,
   "metadata": {},
   "outputs": [],
   "source": [
    "limits=(13, 29)"
   ]
  },
  {
   "cell_type": "markdown",
   "metadata": {},
   "source": [
    "Create the catalog, and save to a file"
   ]
  },
  {
   "cell_type": "code",
   "execution_count": null,
   "metadata": {},
   "outputs": [],
   "source": [
    "besancon_output_file = 'example_besanson_catalog_jwst_mags.cat'\n",
    "besancon_cat = create_catalog.besancon_catalog(central_ra, central_dec, catalog_width,\n",
    "                                               filter_dict, coords='ra_dec',\n",
    "                                               kmag_limits=limits, email=email, seeds=seeds,\n",
    "                                               output_file=besancon_output_file)"
   ]
  },
  {
   "cell_type": "markdown",
   "metadata": {},
   "source": [
    "As with the other catalog queries, this call returns the Mirage-formatted catalog in addition to the full query results"
   ]
  },
  {
   "cell_type": "code",
   "execution_count": null,
   "metadata": {},
   "outputs": [],
   "source": [
    "besancon_cat.table"
   ]
  },
  {
   "cell_type": "markdown",
   "metadata": {},
   "source": [
    "## Putting it all together: Search 2MASS, GAIA, WISE. Crossmatch and interpolate magnitudes to JWST filters"
   ]
  },
  {
   "cell_type": "markdown",
   "metadata": {},
   "source": [
    "Create a list of filters to which the point source magnitudes will be interpolated. Currently this function supports filters from only one instrument at a time. Catalogs from multuple instruments can be combined in the next step."
   ]
  },
  {
   "cell_type": "code",
   "execution_count": null,
   "metadata": {},
   "outputs": [],
   "source": [
    "nrc_filter_list = ['F115W', 'F182M', 'F356W', 'F480M']"
   ]
  },
  {
   "cell_type": "code",
   "execution_count": null,
   "metadata": {},
   "outputs": [],
   "source": [
    "nircam_cat, nircam_filters = create_catalog.get_all_catalogs(central_ra, central_dec, catalog_width,\n",
    "                                                            instrument='nircam', filters=nrc_filter_list,\n",
    "                                                            email=email, besancon_seeds=seeds)"
   ]
  },
  {
   "cell_type": "code",
   "execution_count": null,
   "metadata": {},
   "outputs": [],
   "source": [
    "nis_filter_list = ['F200W', 'F356W']"
   ]
  },
  {
   "cell_type": "code",
   "execution_count": null,
   "metadata": {},
   "outputs": [],
   "source": [
    "niriss_cat, niriss_filters = create_catalog.get_all_catalogs(central_ra, central_dec, catalog_width,\n",
    "                                                             instrument='niriss', filters=nis_filter_list,\n",
    "                                                             email=email, besancon_seeds=seeds)"
   ]
  },
  {
   "cell_type": "code",
   "execution_count": null,
   "metadata": {},
   "outputs": [],
   "source": [
    "# At this point, check to see if the sources returned by Besancon are the same in the two cases.\n",
    "# If so then we can combine the two catalogs. If not, we may need to think about how to handle this."
   ]
  },
  {
   "cell_type": "code",
   "execution_count": null,
   "metadata": {},
   "outputs": [],
   "source": []
  },
  {
   "cell_type": "code",
   "execution_count": null,
   "metadata": {},
   "outputs": [],
   "source": []
  },
  {
   "cell_type": "code",
   "execution_count": null,
   "metadata": {},
   "outputs": [],
   "source": [
    "# Play with Besancon transformation, since users may want a simple Besancon model and nothing else"
   ]
  },
  {
   "cell_type": "code",
   "execution_count": null,
   "metadata": {},
   "outputs": [],
   "source": []
  },
  {
   "cell_type": "code",
   "execution_count": null,
   "metadata": {},
   "outputs": [],
   "source": [
    "nircam_filters = create_catalog.make_filter_names('nircam', nrc_filter_list)\n",
    "niriss_filters = create_catalog.make_filter_names('niriss', nis_filter_list)\n",
    "all_filters = nircam_filters + niriss_filters"
   ]
  },
  {
   "cell_type": "code",
   "execution_count": null,
   "metadata": {},
   "outputs": [],
   "source": [
    "newmags = create_catalog.transform_besancon(background, background_cat, 'nircam', all_filters)"
   ]
  },
  {
   "cell_type": "code",
   "execution_count": null,
   "metadata": {},
   "outputs": [],
   "source": [
    "newmags.shape"
   ]
  },
  {
   "cell_type": "code",
   "execution_count": null,
   "metadata": {},
   "outputs": [],
   "source": [
    "transformed_besancon_cat = catalog_generator.PointSourceCatalog(ra=background.table['x_or_RA'].data,\n",
    "                                                                dec=background.table['y_or_Dec'].data)\n",
    "for mags, filt in zip(newmags.transpose(), all_filters):\n",
    "    instrument, filter_name, _ = filt.split('_')\n",
    "    transformed_besancon_cat.add_magnitude_column(mags, instrument=instrument, filter_name=filter_name)"
   ]
  },
  {
   "cell_type": "code",
   "execution_count": null,
   "metadata": {},
   "outputs": [],
   "source": [
    "transformed_besancon_cat.table"
   ]
  },
  {
   "cell_type": "code",
   "execution_count": null,
   "metadata": {},
   "outputs": [],
   "source": [
    "transformed_besancon_cat.save('besancon_catalog.cat')"
   ]
  },
  {
   "cell_type": "code",
   "execution_count": null,
   "metadata": {},
   "outputs": [],
   "source": []
  },
  {
   "cell_type": "code",
   "execution_count": null,
   "metadata": {},
   "outputs": [],
   "source": [
    "filters = {'nircam': nrc_filter_list, 'niriss': nis_filter_list}\n",
    "newcat = besancon_catalog(central_ra, central_dec, catalog_width, filters, coords='ra_dec',\n",
    "                          kmag_limits=(13, 29), email='hilbert@stsci.edu',\n",
    "                          seeds=[None, None], output_file=None)"
   ]
  },
  {
   "cell_type": "code",
   "execution_count": null,
   "metadata": {},
   "outputs": [],
   "source": [
    "newcat.table"
   ]
  },
  {
   "cell_type": "code",
   "execution_count": null,
   "metadata": {},
   "outputs": [],
   "source": []
  }
 ],
 "metadata": {
  "kernelspec": {
   "display_name": "Python 3",
   "language": "python",
   "name": "python3"
  },
  "language_info": {
   "codemirror_mode": {
    "name": "ipython",
    "version": 3
   },
   "file_extension": ".py",
   "mimetype": "text/x-python",
   "name": "python",
   "nbconvert_exporter": "python",
   "pygments_lexer": "ipython3",
   "version": "3.6.6"
  }
 },
 "nbformat": 4,
 "nbformat_minor": 2
}
