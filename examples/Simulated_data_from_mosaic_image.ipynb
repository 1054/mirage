{
 "cells": [
  {
   "cell_type": "markdown",
   "metadata": {},
   "source": [
    "# Creating simulated data from a mosaic image"
   ]
  },
  {
   "cell_type": "markdown",
   "metadata": {},
   "source": [
    "This notebook demonstrates how to use Mirage to create simulated data from a distortion-free mosaic image. In this case, we will use a mosaic of the GOODS-S region from the [CANDELS survey](https://archive.stsci.edu/prepds/candels/).\n",
    "\n",
    "For each observation to be simulated, the appropriate area of the mosaic is extracted from the full mosaic, and is resampled in order to introduce the distortion associated with the JWST instrument to be used. In JWST calibration parlance, \"resample\" is equivalent to [\"blotting\" in Drizzlepac terminology](https://drizzlepac.readthedocs.io/en/deployment/ablot.html).\n",
    "\n",
    "This distorted image is then addded to the simulated data in one of two ways.\n",
    "\n",
    "1. If you wish to modify the image from the mosaic in any way, such as by adding additional objects or scaling the brightness, then the mosaic image can be added to one of Mirage's \"extended\" source catalogs, along with additional sources.\n",
    "\n",
    "\n",
    "2. If you do not wish to modify the cropped mosaic image in any way (other than introducing the appropriate distortion), then the distorted image can be used directly as a seed image, and you only need to run the dark_prep and obs_generation steps of Mirage in order to create the final simulated data."
   ]
  },
  {
   "cell_type": "markdown",
   "metadata": {},
   "source": [
    "---\n",
    "## Table of Contents"
   ]
  },
  {
   "cell_type": "markdown",
   "metadata": {},
   "source": [
    "* [Imports](#imports)\n",
    "* [Download Data](#download_data)\n",
    "* [Use Resampled Image in an Extended Catalog](#use_in_cat)\n",
    "* [Use Resampled Image as a Seed Image](#use_as_seed)"
   ]
  },
  {
   "cell_type": "markdown",
   "metadata": {},
   "source": [
    "---\n",
    "<a id='imports'></a>\n",
    "## Imports"
   ]
  },
  {
   "cell_type": "code",
   "execution_count": null,
   "metadata": {},
   "outputs": [],
   "source": [
    "from astropy.io import fits\n",
    "import matplotlib.pyplot as plt\n",
    "import numpy as np\n",
    "import os\n",
    "import requests\n",
    "import yaml"
   ]
  },
  {
   "cell_type": "code",
   "execution_count": null,
   "metadata": {},
   "outputs": [],
   "source": [
    "from mirage.catalogs.catalog_generator import ExtendedCatalog\n",
    "from mirage.catalogs.create_catalog import combine_catalogs\n",
    "from mirage.dark.dark_prep import DarkPrep\n",
    "from mirage.ramp_generator.obs_generator import Observation\n",
    "from mirage.imaging_simulator import ImgSim\n",
    "from mirage.seed_image.fits_seed_image import ImgSeed\n",
    "from mirage.yaml import yaml_generator"
   ]
  },
  {
   "cell_type": "markdown",
   "metadata": {},
   "source": [
    "---\n",
    "<a id='download_data'></a>\n",
    "## Download data"
   ]
  },
  {
   "cell_type": "markdown",
   "metadata": {},
   "source": [
    "In order to run the examples in this notebook, there are several files that need to be downloaded. This includes the mosaic image to use as the basis of this work, as well as a trio of \"stamp images\", each of a particular object. The stamp images will be added to the simulated data on top of the mosaic image.\n",
    "\n",
    "The mosaic image is a high level science product from the CANDELS survey. The original data are hosted on [MAST](https://archive.stsci.edu/missions/hlsp/candels/goods-s/gs-tot/v1.0/). For this notebook, we have placed a copy of the file along side the reference files needed for Mirage.\n",
    "\n",
    "The stamp images contain HST observations of several [3C catalog](https://en.wikipedia.org/wiki/Third_Cambridge_Catalogue_of_Radio_Sources) objects. In this case the original data come from recent [3C observations](https://hz3c.stsci.edu/Observations.html) described by [Hilbert et al.](https://ui.adsabs.harvard.edu/abs/2016ApJS..225...12H/abstract) For each file, the object of interest was extracted from the original data and saved in a separate fits file. These files were then also placed along side the Mirage refernce files."
   ]
  },
  {
   "cell_type": "code",
   "execution_count": null,
   "metadata": {},
   "outputs": [],
   "source": [
    "stamp_dir = 'imaging_example_data'"
   ]
  },
  {
   "cell_type": "code",
   "execution_count": null,
   "metadata": {},
   "outputs": [],
   "source": [
    "base_url = ('https://data.science.stsci.edu/redirect/JWST/jwst-simulations/mirage_reference_files'\n",
    "            '/example_data_for_notebooks/')"
   ]
  },
  {
   "cell_type": "code",
   "execution_count": null,
   "metadata": {},
   "outputs": [],
   "source": [
    "input_images = ['3C305.1_stamp.fits', '3C324_stamp.fits', '3C454.1_stamp.fits',\n",
    "                'hlsp_candels_hst_wfc3_gs-tot-sect23_f160w_v1.0_drz.fits']"
   ]
  },
  {
   "cell_type": "code",
   "execution_count": null,
   "metadata": {},
   "outputs": [],
   "source": [
    "def download_file(url, file_name, output_directory='./'):\n",
    "    \"\"\"Download file into the specified output directory given the URL\n",
    "    \n",
    "    Parameters\n",
    "    ----------\n",
    "    url : str\n",
    "        URL to the file to be downloaded\n",
    "        \n",
    "    Returns\n",
    "    -------\n",
    "    download_filename : str\n",
    "        Name of the downloaded file\n",
    "    \"\"\"\n",
    "    download_filename = os.path.join(output_directory, file_name)\n",
    "\n",
    "    # Only download the file if it doesn't already exist\n",
    "    if not os.path.isfile(download_filename):\n",
    "        print('Downloading: {}'.format(file_name))\n",
    "        with requests.get(url, stream=True) as response:\n",
    "            if response.status_code != 200:\n",
    "                raise RuntimeError(\"Wrong URL - {}\".format(url))\n",
    "            with open(download_filename, 'wb') as f:\n",
    "                for chunk in response.iter_content(chunk_size=2048):\n",
    "                    if chunk:\n",
    "                        f.write(chunk)\n",
    "        print('Download of {} complete.'.format(file_name))\n",
    "    else:\n",
    "        print('{} already exists. Skipping download.'.format(file_name))\n",
    "    return download_filename"
   ]
  },
  {
   "cell_type": "code",
   "execution_count": null,
   "metadata": {},
   "outputs": [],
   "source": [
    "stamp_files = []\n",
    "for filename in input_images:\n",
    "    full_url = '{}{}'.format(base_url, filename)\n",
    "    download_file(full_url, filename, output_directory=stamp_dir)\n",
    "    stamp_files.append(os.path.join(stamp_dir, filename))"
   ]
  },
  {
   "cell_type": "code",
   "execution_count": null,
   "metadata": {},
   "outputs": [],
   "source": [
    "# Remove the mosaic file from the list of stamp images\n",
    "stamp_files.pop()"
   ]
  },
  {
   "cell_type": "code",
   "execution_count": null,
   "metadata": {},
   "outputs": [],
   "source": [
    "# The list should now contain only the 3C files\n",
    "stamp_files"
   ]
  },
  {
   "cell_type": "markdown",
   "metadata": {},
   "source": [
    "---\n",
    "<a id='use_in_cat'></a>\n",
    "## Use the resampled image in an extended source catalog"
   ]
  },
  {
   "cell_type": "markdown",
   "metadata": {},
   "source": [
    "In this example, the resampled image is placed into a Mirage catalog of \"extended\" sources. When the **imaging_simulator** function is run, this catalog is read in and the resampled image is placed into the seed image. The advantage of this method is that other sources can also be added to the seed image. In this example, we also add the three stamp images of the 3C objects to the seed image by adding them in the catalog of exteneded sources.  "
   ]
  },
  {
   "cell_type": "markdown",
   "metadata": {},
   "source": [
    "### Define the filename of the mosaic image"
   ]
  },
  {
   "cell_type": "code",
   "execution_count": null,
   "metadata": {},
   "outputs": [],
   "source": [
    "mosaicfile = os.path.join(stamp_dir, input_images[3])"
   ]
  },
  {
   "cell_type": "markdown",
   "metadata": {},
   "source": [
    "### Define the xml and pointing files exported from APT"
   ]
  },
  {
   "cell_type": "code",
   "execution_count": null,
   "metadata": {},
   "outputs": [],
   "source": [
    "xml_file = 'imaging_example_data/extended_object_test.xml'\n",
    "pointing_file = xml_file.replace('.xml', '.pointing')"
   ]
  },
  {
   "cell_type": "markdown",
   "metadata": {},
   "source": [
    "### Run the yaml_generator to create the yaml input files"
   ]
  },
  {
   "cell_type": "markdown",
   "metadata": {},
   "source": [
    "Define user-inputs to the yaml generator. Note that you can still use a `catalogs` input here to add\n",
    "point sources or galaxies on top of the mosaic image. The extended source catalog names will be added in a later step. See the Mirage [documentation page on running the yaml_generator](https://mirage-data-simulator.readthedocs.io/en/latest/yaml_generator.html) for details on input options."
   ]
  },
  {
   "cell_type": "code",
   "execution_count": null,
   "metadata": {},
   "outputs": [],
   "source": [
    "cr = {'library': 'SUNMAX', 'scale': 1.0}\n",
    "dates = '2019-5-25'\n",
    "background = 'low'\n",
    "pav3 = 0.0"
   ]
  },
  {
   "cell_type": "markdown",
   "metadata": {},
   "source": [
    "If you wish to add more point sources or galaxies, you can specify those catalogs here.\n",
    "See the Mirage [yaml_generator documentation](https://mirage-data-simulator.readthedocs.io/en/latest/yaml_generator.html#source-catalogs) for more details"
   ]
  },
  {
   "cell_type": "code",
   "execution_count": null,
   "metadata": {},
   "outputs": [],
   "source": [
    "# catalogs = {'MAIN-TARGET': {'point_source': 'ptsrc.cat',\n",
    "#                              'galaxy': 'galaxies.cat'\n",
    "#                             }\n",
    "#             }"
   ]
  },
  {
   "cell_type": "markdown",
   "metadata": {},
   "source": [
    "Run the yaml generator"
   ]
  },
  {
   "cell_type": "code",
   "execution_count": null,
   "metadata": {
    "scrolled": true
   },
   "outputs": [],
   "source": [
    "yam = yaml_generator.SimInput(xml_file, pointing_file, verbose=True,\n",
    "                              output_dir='yamls',\n",
    "                              cosmic_rays=cr,\n",
    "                              #catalogs=catalogs,\n",
    "                              background=background, roll_angle=pav3, dates=dates,\n",
    "                              simdata_output_dir='simdata',\n",
    "                              datatype='raw')\n",
    "yam.use_linearized_darks = True\n",
    "yam.create_inputs()"
   ]
  },
  {
   "cell_type": "markdown",
   "metadata": {},
   "source": [
    "### Create a template extended source catalog to use "
   ]
  },
  {
   "cell_type": "markdown",
   "metadata": {},
   "source": [
    "For convenience: Get a list of all instruments, apertures, and filters used in the APT file.\n",
    "When creating the extended source catalog below, you will need to add magnitude columns for\n",
    "all filters that you wish to create simulated data for."
   ]
  },
  {
   "cell_type": "code",
   "execution_count": null,
   "metadata": {},
   "outputs": [],
   "source": [
    "instruments = yam.info['Instrument']\n",
    "filter_keywords = ['FilterWheel', 'ShortFilter', 'LongFilter', 'Filter']\n",
    "pupil_keywords = ['PupilWheel', 'ShortPupil', 'LongPupil']\n",
    "yam.info\n",
    "\n",
    "nrc_sw_optics = set([(f, p) for f, p in zip(yam.info['ShortFilter'], yam.info['ShortPupil'])])\n",
    "nrc_lw_optics = set([(f, p) for f, p in zip(yam.info['LongFilter'], yam.info['LongPupil'])])\n",
    "niriss_optics = set([(f, p) for f, p in zip(yam.info['FilterWheel'], yam.info['PupilWheel'])])\n",
    "niriss_wfss_optics = set([(f, p) for f, p in zip(yam.info['Filter'], yam.info['PupilWheel'])])\n",
    "\n",
    "print('NIRCam filters/pupils used in this proposal: ')\n",
    "print(nrc_sw_optics)\n",
    "print(nrc_lw_optics)\n",
    "print('\\nNIRISS filters/pupils used in this proposal: ')\n",
    "print(niriss_optics)\n",
    "print(niriss_wfss_optics)\n",
    "print(('\\nBe sure to add magnitude columns to the template catalog '\n",
    "        'for all filters you are going to simulate.\\n'))"
   ]
  },
  {
   "cell_type": "markdown",
   "metadata": {},
   "source": [
    "Create a template extended source catalog containing **sources other than the mosaic image** that you want to add to the seed image. The resampled mosaic will be added to this template later. Note that you must add magnitude values for these other sources in all filters that are used in the proposal. If you do not have other sources to add, you can provide empty lists, or simply use the other strategy, where the [resampled image is used as the seed image](#use_as_seed)."
   ]
  },
  {
   "cell_type": "code",
   "execution_count": null,
   "metadata": {},
   "outputs": [],
   "source": [
    "# In this example we have only 2 filters to worry about\n",
    "filter1 = 'F150W'\n",
    "filter2 = 'F444W'"
   ]
  },
  {
   "cell_type": "markdown",
   "metadata": {},
   "source": [
    "See the Mirage [documentation page on catalog generation](https://mirage-data-simulator.readthedocs.io/en/latest/catalog_creation.html) as well as the [Catalog generation notebook](https://github.com/spacetelescope/mirage/blob/master/examples/Catalog_Generation_Tools.ipynb) for details and options when creating catalogs. "
   ]
  },
  {
   "cell_type": "code",
   "execution_count": null,
   "metadata": {},
   "outputs": [],
   "source": [
    "# Place the other stamp images in a diagonal line with 6.2\" between each, centered in the B1 detector\n",
    "# They are also visible in the top right quadrant of the B5 detector\n",
    "other_stamp_ra = [53.1562247, 53.1545247, 53.1528247]\n",
    "other_stamp_dec = [-27.8076957, -27.8059957, -27.8042957]\n",
    "other_stamp_pa = [0., 0., 0.]  # Rotating stamps via pa currently disabled in Mirage\n",
    "other_stamp_f150w_mags = [19.5, 19.75, 20.]\n",
    "other_stamp_f444w_mags = [20.5, 20.75, 21.]\n",
    "\n",
    "# Magnitude values must be strings here because we will be combining them\n",
    "# with values of 'None' for the resampled image magnitudes\n",
    "f150w_mags_as_str = [str(element) for element in other_stamp_f150w_mags]\n",
    "f444w_mags_as_str = [str(element) for element in other_stamp_f444w_mags]\n",
    "\n",
    "template_extended_catalog_file = 'extended_sources_template.cat'\n",
    "template_cat = ExtendedCatalog(filenames=stamp_files, ra=other_stamp_ra, dec=other_stamp_dec,\n",
    "                               position_angle=other_stamp_pa)\n",
    "template_cat.add_magnitude_column(f150w_mags_as_str, instrument='nircam', filter_name=filter1)\n",
    "template_cat.add_magnitude_column(f444w_mags_as_str, instrument='nircam', filter_name=filter2)\n",
    "template_cat.save(template_extended_catalog_file)"
   ]
  },
  {
   "cell_type": "markdown",
   "metadata": {},
   "source": [
    "For each yaml file, create a resampled image from the mosaic, add this image to the template catalog and save as a yaml-specific catalog. Then enter the catalog name in the yaml file so that when the **imaging_simulator** is run, it will use the correct catalog.\n",
    "\n",
    "The reason that yaml-specific catalogs are needed is because the astrometric distortion is different for each detector. Therefore we must create a different resampled image for each detector, and for each pointing. "
   ]
  },
  {
   "cell_type": "code",
   "execution_count": null,
   "metadata": {
    "scrolled": true
   },
   "outputs": [],
   "source": [
    "for yfile in yam.yaml_files:\n",
    "    \n",
    "    # Read in the yaml file so that we know RA, Dec, PAV3\n",
    "    # of the exposure\n",
    "    with open(yfile) as file_obj:\n",
    "        params = yaml.safe_load(file_obj)\n",
    "        \n",
    "    ra = params['Telescope']['ra']\n",
    "    dec = params['Telescope']['dec']\n",
    "    pav3 = params['Telescope']['rotation']\n",
    "\n",
    "    # Define the output files and directories\n",
    "    sim_data_dir = params['Output']['directory']\n",
    "    simulated_filename = params['Output']['file']\n",
    "    crop_file = simulated_filename.replace('.fits', '_cropped_from_mosaic.fits')\n",
    "    crop_file = os.path.join(sim_data_dir, crop_file)\n",
    "    blot_file = simulated_filename.replace('.fits', '_blotted_seed_image.fits')\n",
    "    \n",
    "    # Crop from the mosaic and resample for the desired detector/aperture\n",
    "    seed = ImgSeed(paramfile=yfile, mosaicfile=mosaicfile, cropped_file=crop_file,\n",
    "                   outdir=sim_data_dir, blotted_file=blot_file)\n",
    "    seed.crop_and_blot()\n",
    "\n",
    "    # Now add the resampled file to the extended source catalog template and\n",
    "    # save as a separate catalog file\n",
    "    \n",
    "    # Need to add a magnitude entry for each filter/pupil\n",
    "    mosaic_f150w_mag = ['None']\n",
    "    mosaic_f444w_mag = ['None']\n",
    "    \n",
    "    # Create the catalog containing only the resampled image\n",
    "    blotted_image_full_path = os.path.join(sim_data_dir, blot_file)\n",
    "    extended_catalog_file = simulated_filename.replace('.fits', '_extended_sources.cat')\n",
    "    ext_cat = ExtendedCatalog(filenames=[blotted_image_full_path], ra=[ra], dec=[dec], position_angle=[pav3])\n",
    "    ext_cat.add_magnitude_column(mosaic_f150w_mag, instrument='nircam', filter_name=filter1)\n",
    "    ext_cat.add_magnitude_column(mosaic_f444w_mag, instrument='nircam', filter_name=filter2)\n",
    "\n",
    "    # Combine the resampled image catalog and the template catalog\n",
    "    combined_cat = combine_catalogs(ext_cat, template_cat)\n",
    "    combined_cat.save(extended_catalog_file)\n",
    "\n",
    "    # Now add this extended source catalog to the yaml file\n",
    "    params['simSignals']['extended'] = extended_catalog_file\n",
    "\n",
    "    # Save the updated yaml file\n",
    "    with open(yfile, 'w') as file_obj:\n",
    "        dump = yaml.dump(params, default_flow_style=False)\n",
    "        file_obj.write(dump)"
   ]
  },
  {
   "cell_type": "markdown",
   "metadata": {},
   "source": [
    "### Create the simulated data"
   ]
  },
  {
   "cell_type": "markdown",
   "metadata": {},
   "source": [
    "To create the simulated data, call the **imaging_simulator** once for each yaml file."
   ]
  },
  {
   "cell_type": "code",
   "execution_count": null,
   "metadata": {
    "scrolled": true
   },
   "outputs": [],
   "source": [
    "for yfile in yam.yaml_files[0:1]:\n",
    "    sim = ImgSim(paramfile=yfile)\n",
    "    sim.create()"
   ]
  },
  {
   "cell_type": "markdown",
   "metadata": {},
   "source": [
    "### Examine the data"
   ]
  },
  {
   "cell_type": "code",
   "execution_count": null,
   "metadata": {},
   "outputs": [],
   "source": [
    "def show(array, title, min=0, max=1000):\n",
    "    plt.figure(figsize=(12, 12))\n",
    "    plt.imshow(array,clim=(min, max), origin='lower')\n",
    "    plt.title(title)\n",
    "    plt.colorbar().set_label('DN$^{-}$/s')"
   ]
  },
  {
   "cell_type": "markdown",
   "metadata": {},
   "source": [
    "First let's look at the seed image, which is noiseless and will make it easier to see the fainter sources"
   ]
  },
  {
   "cell_type": "code",
   "execution_count": null,
   "metadata": {},
   "outputs": [],
   "source": [
    "with fits.open('simdata/jw00042001001_01101_00001_nrcb1_uncal_F150W_seed_image.fits') as h:\n",
    "    seeddata = h[1].data\n",
    "    seedheader = h[0].header"
   ]
  },
  {
   "cell_type": "markdown",
   "metadata": {},
   "source": [
    "Note that the three added stamp images are in a diagonal line going up and to the right through the center of the image."
   ]
  },
  {
   "cell_type": "code",
   "execution_count": null,
   "metadata": {},
   "outputs": [],
   "source": [
    "plt.figure(figsize=(12, 12))\n",
    "plt.imshow(np.log10(seeddata), clim=(np.log10(0.001), np.log10(5)), origin=\"lower\")\n",
    "plt.title('Seed Image')\n",
    "plt.colorbar().set_label('DN$^{-}$/s')"
   ]
  },
  {
   "cell_type": "markdown",
   "metadata": {},
   "source": [
    "Next look at the simulated data. Noise and instrumental effects combined with the short exposure time will make it much tougher to see the fainter sources. Look at the last group minus the first group, in order to remove bias structure and bring out the brighter sources."
   ]
  },
  {
   "cell_type": "code",
   "execution_count": null,
   "metadata": {},
   "outputs": [],
   "source": [
    "with fits.open('simdata/jw00042001001_01101_00001_nrcb1_uncal.fits') as h:\n",
    "    lindata = h[1].data\n",
    "    header = h[0].header"
   ]
  },
  {
   "cell_type": "code",
   "execution_count": null,
   "metadata": {},
   "outputs": [],
   "source": [
    "exptime = header['EFFINTTM']\n",
    "diffdata = (1.* lindata[0,-1,:,:] - 1. * lindata[0,0,:,:]) / exptime"
   ]
  },
  {
   "cell_type": "code",
   "execution_count": null,
   "metadata": {},
   "outputs": [],
   "source": [
    "# Show on a log scale, to bring out the presence of the dark current\n",
    "# Noise in the CDS image makes for a lot of pixels with values < 0,\n",
    "# which makes this kind of an ugly image. Add an offset so that\n",
    "# everything is positive and the noise is visible\n",
    "offset = 2.\n",
    "plt.figure(figsize=(12, 12))\n",
    "plt.imshow(np.log10(diffdata + offset), clim=(np.log10(2), np.log10(5)), origin=\"lower\")\n",
    "plt.title('Simulated Data')\n",
    "plt.colorbar().set_label('DN$^{-}$/s')"
   ]
  },
  {
   "cell_type": "markdown",
   "metadata": {},
   "source": [
    "---\n",
    "<a id='use_as_seed'></a>\n",
    "## Use the resampled image as a seed image"
   ]
  },
  {
   "cell_type": "markdown",
   "metadata": {},
   "source": [
    "In this example, the resampled image is used directly as the seed image, with no modifications. No extra sources are added. With this method, we use only the `dark_prep` and `obs_generator` steps of Mirage. The cropping and blotting of the mosaic image replaces the call to `catalog_seed_image` that would otherwise be made."
   ]
  },
  {
   "cell_type": "markdown",
   "metadata": {},
   "source": [
    "### Define the filename containing the mosaic image"
   ]
  },
  {
   "cell_type": "code",
   "execution_count": null,
   "metadata": {},
   "outputs": [],
   "source": [
    "mosaicfile = os.path.join(stamp_dir, input_images[3])"
   ]
  },
  {
   "cell_type": "markdown",
   "metadata": {},
   "source": [
    "### Define the xml and pointing files exported from APT"
   ]
  },
  {
   "cell_type": "code",
   "execution_count": null,
   "metadata": {},
   "outputs": [],
   "source": [
    "xml_file = 'imaging_example_data/extended_object_test.xml'\n",
    "pointing_file = xml_file.replace('.xml', '.pointing')"
   ]
  },
  {
   "cell_type": "markdown",
   "metadata": {},
   "source": [
    "### Run the yaml_generator to create the yaml input files"
   ]
  },
  {
   "cell_type": "markdown",
   "metadata": {},
   "source": [
    "User-inputs to the yaml generator. In this case you cannot add other catalogs to the seed image since the `catalog_seed_image` function will not be called."
   ]
  },
  {
   "cell_type": "code",
   "execution_count": null,
   "metadata": {},
   "outputs": [],
   "source": [
    "# In this case the resampled image will be the seed image. You cannot add other sources\n",
    "# to the seed image, so no need to specify other catalogs here.\n",
    "cr = {'library': 'SUNMAX', 'scale': 1.0}\n",
    "dates = '2019-5-25'\n",
    "background = 'low'\n",
    "pav3 = 0.0"
   ]
  },
  {
   "cell_type": "markdown",
   "metadata": {},
   "source": [
    "Run the yaml generator"
   ]
  },
  {
   "cell_type": "code",
   "execution_count": null,
   "metadata": {
    "scrolled": true
   },
   "outputs": [],
   "source": [
    "yam = yaml_generator.SimInput(xml_file, pointing_file, verbose=True,\n",
    "                              output_dir='yamls',\n",
    "                              cosmic_rays=cr,\n",
    "                              background=background, roll_angle=pav3, dates=dates,\n",
    "                              simdata_output_dir='simdata',\n",
    "                              datatype='raw')\n",
    "yam.use_linearized_darks = True\n",
    "yam.create_inputs()"
   ]
  },
  {
   "cell_type": "markdown",
   "metadata": {},
   "source": [
    "### Create the resampled image, then run the `dark_prep` and `obs_generator` steps"
   ]
  },
  {
   "cell_type": "markdown",
   "metadata": {},
   "source": [
    "Run these steps for each yaml file produced from the APT file."
   ]
  },
  {
   "cell_type": "code",
   "execution_count": null,
   "metadata": {
    "scrolled": true
   },
   "outputs": [],
   "source": [
    "for yfile in yam.yaml_files:\n",
    "    \n",
    "    # Read in the yaml file so that we know RA, Dec, PAV3\n",
    "    with open(yfile) as file_obj:\n",
    "        params = yaml.safe_load(file_obj)\n",
    "        \n",
    "    # Define output filenames and directories\n",
    "    sim_data_dir = params['Output']['directory']\n",
    "    simulated_filename = params['Output']['file']\n",
    "    crop_file = simulated_filename.replace('.fits', '_cropped_from_mosaic.fits')\n",
    "    crop_file = os.path.join(sim_data_dir, crop_file)\n",
    "    blot_file = simulated_filename.replace('.fits', '_blotted_seed_image.fits')\n",
    "        \n",
    "    # Crop from the mosaic and then resample the image\n",
    "    seed = ImgSeed(paramfile=yfile, mosaicfile=mosaicfile, cropped_file=crop_file,\n",
    "                   outdir=sim_data_dir, blotted_file=blot_file)\n",
    "    seed.crop_and_blot()\n",
    "    \n",
    "    # Run dark_prep\n",
    "    dark = DarkPrep()\n",
    "    dark.paramfile = yfile\n",
    "    dark.prepare()\n",
    "\n",
    "    # Run the observation generator\n",
    "    obs = Observation()\n",
    "    obs.paramfile = yfile    \n",
    "    obs.seed = seed.seed_image\n",
    "    obs.segmap = seed.seed_segmap\n",
    "    obs.seedheader = seed.seedinfo\n",
    "    obs.linDark = dark.prepDark\n",
    "    obs.create()"
   ]
  },
  {
   "cell_type": "markdown",
   "metadata": {},
   "source": [
    "### Examine the data"
   ]
  },
  {
   "cell_type": "markdown",
   "metadata": {},
   "source": [
    "Look at the seed image, which is simply the cropped and resampled image from the mosaic"
   ]
  },
  {
   "cell_type": "code",
   "execution_count": null,
   "metadata": {},
   "outputs": [],
   "source": [
    "with fits.open('simdata/jw00042001001_01101_00001_nrcb1_uncal_blotted_seed_image.fits') as hdulist:\n",
    "    seed = hdulist[1].data"
   ]
  },
  {
   "cell_type": "code",
   "execution_count": null,
   "metadata": {},
   "outputs": [],
   "source": [
    "plt.figure(figsize=(12, 12))\n",
    "plt.imshow(np.log10(seed+2), clim=(np.log10(2), np.log10(2.5)), origin=\"lower\")\n",
    "plt.title('Seed Image')\n",
    "plt.colorbar().set_label('DN$^{-}$/s')"
   ]
  },
  {
   "cell_type": "markdown",
   "metadata": {},
   "source": [
    "Now look at the simulated data in the raw file. Look at the last group minus the first group in order to make the sources easier to see."
   ]
  },
  {
   "cell_type": "code",
   "execution_count": null,
   "metadata": {},
   "outputs": [],
   "source": [
    "with fits.open('simdata/jw00042001001_01101_00001_nrcb1_uncal.fits') as h:\n",
    "    lindata = h['SCI'].data\n",
    "    header = h[0].header"
   ]
  },
  {
   "cell_type": "code",
   "execution_count": null,
   "metadata": {},
   "outputs": [],
   "source": [
    "exptime = header['EFFINTTM']\n",
    "diffdata = (1. * lindata[0,-1,:,:] - 1. * lindata[0,0,:,:]) / exptime"
   ]
  },
  {
   "cell_type": "code",
   "execution_count": null,
   "metadata": {},
   "outputs": [],
   "source": [
    "# In this case, instrumental effects such as bias differences in the 4 amplifiers\n",
    "# 1/f noise dominate, making it hard to see any but the brightest sources.\n",
    "# Again, this is largely due to the short exposure time of the exposure.\n",
    "offset = 2.\n",
    "plt.figure(figsize=(12, 12))\n",
    "plt.imshow(np.log10(diffdata + offset), clim=(0.001, 0.5), origin='lower')\n",
    "plt.title('Simulated Raw Data')\n",
    "plt.colorbar().set_label('DN$^{-}$/s')"
   ]
  }
 ],
 "metadata": {
  "kernelspec": {
   "display_name": "Python 3",
   "language": "python",
   "name": "python3"
  },
  "language_info": {
   "codemirror_mode": {
    "name": "ipython",
    "version": 3
   },
   "file_extension": ".py",
   "mimetype": "text/x-python",
   "name": "python",
   "nbconvert_exporter": "python",
   "pygments_lexer": "ipython3",
   "version": "3.6.7"
  }
 },
 "nbformat": 4,
 "nbformat_minor": 2
}
