{
 "cells": [
  {
   "cell_type": "markdown",
   "metadata": {},
   "source": [
    "# Creating simulated data from a mosaic image"
   ]
  },
  {
   "cell_type": "markdown",
   "metadata": {},
   "source": [
    "This notebook demonstrates how to use Mirage to create simulated data from a distortion-free mosaic image. In this case, we will use a mosaic of the GOODS-S region from the CANDELS survey. (****ADD LINKS for candels and goodss****)\n",
    "\n",
    "For each observation to be simulated, the appropriate area of the mosaic is extracted from the full mosaic, and is resampled in order to introduce the distortion associated with the JWST instrument to be used. This distorted image is then addded to the simulated data in one of two ways.\n",
    "\n",
    "If you wish to modify the image from the mosaic in any way, such as adding additional objects or scaling the brightness, then the mosaic image can be added to one of Mirage's \"extended\" source catalogs, along with additional sources.\n",
    "\n",
    "If you do not wish to modify the cropped mosaic image in any way (other than introducing the appropriate distortion), then the distorted image can be used directly as a seed image, and you only need to run the dark_prep and obs_generation steps of Mirage in order to create the final simulated data."
   ]
  },
  {
   "cell_type": "code",
   "execution_count": null,
   "metadata": {},
   "outputs": [],
   "source": []
  },
  {
   "cell_type": "code",
   "execution_count": null,
   "metadata": {},
   "outputs": [],
   "source": [
    "import os\n",
    "import yaml"
   ]
  },
  {
   "cell_type": "code",
   "execution_count": null,
   "metadata": {},
   "outputs": [],
   "source": [
    "from mirage.catalogs.catalog_generator import ExtendedCatalog\n",
    "from mirage.catalogs.create_catalog import combine_catalogs\n",
    "from mirage.dark.dark_prep import DarkPrep\n",
    "from mirage.ramp_generator.obs_generator import Observation\n",
    "from mirage.imaging_simulator import ImgSim\n",
    "from mirage.seed_image.fits_seed_image import ImgSeed\n",
    "from mirage.yaml import yaml_generator"
   ]
  },
  {
   "cell_type": "code",
   "execution_count": null,
   "metadata": {},
   "outputs": [],
   "source": []
  },
  {
   "cell_type": "markdown",
   "metadata": {},
   "source": [
    "## Download data"
   ]
  },
  {
   "cell_type": "code",
   "execution_count": null,
   "metadata": {},
   "outputs": [],
   "source": [
    "base_url = ('https://data.science.stsci.edu/redirect/JWST/jwst-simulations/mirage_reference_files'\n",
    "            '/example_data_for_notebooks/')"
   ]
  },
  {
   "cell_type": "code",
   "execution_count": null,
   "metadata": {},
   "outputs": [],
   "source": [
    "input_images = ['3C305.1_stamp.fits', '3C324_stamp.fits', '3C454.1_stamp.fits',\n",
    "                'hlsp_candels_hst_wfc3_gs-tot-sect23_f160w_v1.0_drz']"
   ]
  },
  {
   "cell_type": "code",
   "execution_count": null,
   "metadata": {},
   "outputs": [],
   "source": [
    "for filename in input_images:\n",
    "    full_url = '{}{}'.format(base_url, filename)\n",
    "    download here"
   ]
  },
  {
   "cell_type": "markdown",
   "metadata": {},
   "source": [
    "## Using blotted image in an extended source catalog"
   ]
  },
  {
   "cell_type": "code",
   "execution_count": null,
   "metadata": {},
   "outputs": [],
   "source": [
    "mosaicfile = 'gs_all_candels_ers_f160w_060mas_v0.5_drz.fits'\n",
    "xml_file = 'extended_object_test.xml'\n",
    "pointing_file = xml_file.replace('.xml', '.pointing')"
   ]
  },
  {
   "cell_type": "code",
   "execution_count": null,
   "metadata": {},
   "outputs": [],
   "source": []
  },
  {
   "cell_type": "code",
   "execution_count": null,
   "metadata": {},
   "outputs": [],
   "source": []
  },
  {
   "cell_type": "markdown",
   "metadata": {},
   "source": [
    "User-inputs to the yaml generator. Note that you can still use a catalogs input here and add\n",
    "point sources or galaxies. Extended source catalog names will be added later"
   ]
  },
  {
   "cell_type": "code",
   "execution_count": null,
   "metadata": {},
   "outputs": [],
   "source": [
    "cr = {'library': 'SUNMAX', 'scale': 1.0}\n",
    "dates = '2019-5-25'\n",
    "background = 'low'\n",
    "pav3 = 0.0\n",
    "#catalogs = Show example with point source / galaxy, but comment out"
   ]
  },
  {
   "cell_type": "markdown",
   "metadata": {},
   "source": [
    "Run the yaml generator"
   ]
  },
  {
   "cell_type": "code",
   "execution_count": null,
   "metadata": {
    "scrolled": true
   },
   "outputs": [],
   "source": [
    "yam = yaml_generator.SimInput(xml_file, pointing_file, verbose=True,\n",
    "                              output_dir='yamls',\n",
    "                              cosmic_rays=cr,\n",
    "                              #catalogs=catalogs,\n",
    "                              background=background, roll_angle=pav3, dates=dates,\n",
    "                              simdata_output_dir='simdata',\n",
    "                              datatype='raw')\n",
    "yam.use_linearized_darks = True\n",
    "yam.create_inputs()"
   ]
  },
  {
   "cell_type": "markdown",
   "metadata": {},
   "source": [
    "Get a list of all instruments, apertures, and filters used in the APT file"
   ]
  },
  {
   "cell_type": "code",
   "execution_count": null,
   "metadata": {},
   "outputs": [],
   "source": [
    "instruments = yam.info['Instrument']\n",
    "filter_keywords = ['FilterWheel', 'ShortFilter', 'LongFilter', 'Filter']\n",
    "pupil_keywords = ['PupilWheel', 'ShortPupil', 'LongPupil']\n",
    "yam.info\n",
    "\n",
    "nrc_sw_optics = set([(f, p) for f, p in zip(yam.info['ShortFilter'], yam.info['ShortPupil'])])\n",
    "nrc_lw_optics = set([(f, p) for f, p in zip(yam.info['LongFilter'], yam.info['LongPupil'])])\n",
    "niriss_optics = set([(f, p) for f, p in zip(yam.info['FilterWheel'], yam.info['PupilWheel'])])\n",
    "niriss_wfss_optics = set([(f, p) for f, p in zip(yam.info['Filter'], yam.info['PupilWheel'])])\n",
    "\n",
    "print('NIRCam filters/pupils used in this proposal: ')\n",
    "print(nrc_sw_optics)\n",
    "print(nrc_lw_optics)\n",
    "print('\\nNIRISS filters/pupils used in this proposal: ')\n",
    "print(niriss_optics)\n",
    "print(niriss_wfss_optics)\n",
    "print(('\\nBe sure to add magnitude columns to the template catalog '\n",
    "        'for all filters you are going to simulate.\\n'))"
   ]
  },
  {
   "cell_type": "markdown",
   "metadata": {},
   "source": [
    "Create a template extended source catalog containing sources other than the mosaic image that you want to add to the seed image. The resampled mosaic will be added to this template later. Note that you must add magnitude values for these other sources in all filters that are used in the proposal."
   ]
  },
  {
   "cell_type": "code",
   "execution_count": null,
   "metadata": {},
   "outputs": [],
   "source": [
    "filter1 = 'F150W'\n",
    "filter2 = 'F444W'"
   ]
  },
  {
   "cell_type": "code",
   "execution_count": null,
   "metadata": {},
   "outputs": [],
   "source": [
    "other_stamp_files = ['n49_0.5-7.0_flux.fits', 'n49_0.5-7.0_flux.fits', 'n49_0.5-7.0_flux.fits']\n",
    "other_stamp_ra = [53.126751, 53.122751, 53.122751]\n",
    "other_stamp_dec = [ -27.801089, -27.801089, -27.809089]\n",
    "other_stamp_pa = [0., 0., 0.]\n",
    "other_stamp_f150w_mags = [16., 17., 17.5]\n",
    "other_stamp_f444w_mags = [15., 16., 16.5]\n",
    "\n",
    "# Magnitude values must be strings here because we will be combining them\n",
    "# with values of 'None' for the resampled image magnitudes\n",
    "f150w_mags_as_str = [str(element) for element in other_stamp_f150w_mags]\n",
    "f444w_mags_as_str = [str(element) for element in other_stamp_f444w_mags]\n",
    "\n",
    "template_extended_catalog_file = 'extended_sources_template.cat'\n",
    "template_cat = ExtendedCatalog(filenames=other_stamp_files, ra=other_stamp_ra, dec=other_stamp_dec,\n",
    "                               position_angle=other_stamp_pa)\n",
    "template_cat.add_magnitude_column(f150w_mags_as_str, instrument='nircam', filter_name=filter1)\n",
    "template_cat.add_magnitude_column(f444w_mags_as_str, instrument='nircam', filter_name=filter2)\n",
    "template_cat.save(template_extended_catalog_file)"
   ]
  },
  {
   "cell_type": "code",
   "execution_count": null,
   "metadata": {},
   "outputs": [],
   "source": [
    "# Directory in which to save the resampled images\n",
    "resampled_output_dir = './'"
   ]
  },
  {
   "cell_type": "markdown",
   "metadata": {},
   "source": [
    "For each yaml file, create a resampled image from the mosaic, add this image to the template catalog and save as a yaml-specific catalog, and enter the catalog name in the yaml file"
   ]
  },
  {
   "cell_type": "code",
   "execution_count": null,
   "metadata": {
    "scrolled": true
   },
   "outputs": [],
   "source": [
    "for yfile in yam.yaml_files:\n",
    "    \n",
    "    # Read in the yaml file so that we know RA, Dec, PAV3\n",
    "    # of the exposure\n",
    "    with open(yfile) as file_obj:\n",
    "        params = yaml.safe_load(file_obj)\n",
    "        \n",
    "    ra = params['Telescope']['ra']\n",
    "    dec = params['Telescope']['dec']\n",
    "    pav3 = params['Telescope']['rotation']\n",
    "\n",
    "    # Define the output files and directories\n",
    "    sim_data_dir = params['Output']['directory']\n",
    "    simulated_filename = params['Output']['file']\n",
    "    crop_file = simulated_filename.replace('.fits', '_cropped_from_mosaic.fits')\n",
    "    crop_file = os.path.join(sim_data_dir, crop_file)\n",
    "    blot_file = simulated_filename.replace('.fits', '_blotted_seed_image.fits')\n",
    "    \n",
    "    # Crop from the mosaic and resample for the desired detector/aperture\n",
    "    seed = ImgSeed(paramfile=yfile, mosaicfile=mosaicfile, cropped_file=crop_file,\n",
    "                   outdir=sim_data_dir, blotted_file=blot_file)\n",
    "    seed.crop_and_blot()\n",
    "\n",
    "    # Now add the resampled file to the extended source catalog template and\n",
    "    # save as a separate catalog file\n",
    "    \n",
    "    # Need to add a magnitude entry for each filter/pupil\n",
    "    mosaic_f150w_mag = ['None']\n",
    "    mosaic_f444w_mag = ['None']\n",
    "    \n",
    "    # Create the catalog containing only the resampled image\n",
    "    blotted_image_full_path = os.path.join(sim_data_dir, blot_file)\n",
    "    extended_catalog_file = simulated_filename.replace('.fits', '_extended_sources.cat')\n",
    "    ext_cat = ExtendedCatalog(filenames=[blotted_image_full_path], ra=[ra], dec=[dec], position_angle=[pav3])\n",
    "    ext_cat.add_magnitude_column(mosaic_f150w_mag, instrument='nircam', filter_name=filter1)\n",
    "    ext_cat.add_magnitude_column(mosaic_f444w_mag, instrument='nircam', filter_name=filter2)\n",
    "\n",
    "    # Combine the resampled image catalog and the template catalog\n",
    "    combined_cat = combine_catalogs(ext_cat, template_cat)\n",
    "    combined_cat.save(extended_catalog_file)\n",
    "\n",
    "    # Now add this extended source catalog to the yaml file\n",
    "    params['simSignals']['extended'] = extended_catalog_file\n",
    "\n",
    "    # Save the updated yaml file\n",
    "    with open(yfile, 'w') as file_obj:\n",
    "        dump = yaml.dump(params, default_flow_style=False)\n",
    "        file_obj.write(dump)"
   ]
  },
  {
   "cell_type": "markdown",
   "metadata": {},
   "source": [
    "Create the simulated data"
   ]
  },
  {
   "cell_type": "code",
   "execution_count": null,
   "metadata": {
    "scrolled": true
   },
   "outputs": [],
   "source": [
    "for yfile in yam.yaml_files[0:1]:\n",
    "    sim = ImgSim(paramfile=yfile)\n",
    "    sim.create()"
   ]
  },
  {
   "cell_type": "markdown",
   "metadata": {},
   "source": [
    "## Use resampled image as a seed image"
   ]
  },
  {
   "cell_type": "code",
   "execution_count": null,
   "metadata": {},
   "outputs": [],
   "source": [
    "mosaicfile = 'gs_all_candels_ers_f160w_060mas_v0.5_drz.fits'\n",
    "xml_file = 'extended_object_test.xml'\n",
    "pointing_file = xml_file.replace('.xml', '.pointing')"
   ]
  },
  {
   "cell_type": "markdown",
   "metadata": {},
   "source": [
    "User-inputs to the yaml generator. Note that you can still use a catalogs input here and add\n",
    "point sources or galaxies. Extended source catalog names will be added later"
   ]
  },
  {
   "cell_type": "code",
   "execution_count": null,
   "metadata": {},
   "outputs": [],
   "source": [
    "cr = {'library': 'SUNMAX', 'scale': 1.0}\n",
    "dates = '2019-5-25'\n",
    "background = 'low'\n",
    "pav3 = 0.0\n",
    "#catalogs = Show example with point source / galaxy, but comment out"
   ]
  },
  {
   "cell_type": "markdown",
   "metadata": {},
   "source": [
    "Run the yaml generator"
   ]
  },
  {
   "cell_type": "code",
   "execution_count": null,
   "metadata": {
    "scrolled": true
   },
   "outputs": [],
   "source": [
    "yam = yaml_generator.SimInput(xml_file, pointing_file, verbose=True,\n",
    "                              output_dir='yamls',\n",
    "                              cosmic_rays=cr,\n",
    "                              #catalogs=catalogs,\n",
    "                              background=background, roll_angle=pav3, dates=dates,\n",
    "                              simdata_output_dir='simdata',\n",
    "                              datatype='raw')\n",
    "yam.use_linearized_darks = True\n",
    "yam.create_inputs()"
   ]
  },
  {
   "cell_type": "markdown",
   "metadata": {},
   "source": [
    "For each yaml file, create a resampled image from the mosaic, add this image to the template catalog and save as a yaml-specific catalog, and enter the catalog name in the yaml file"
   ]
  },
  {
   "cell_type": "code",
   "execution_count": null,
   "metadata": {
    "scrolled": true
   },
   "outputs": [],
   "source": [
    "for yfile in yam.yaml_files:\n",
    "    \n",
    "    # Read in the yaml file so that we know RA, Dec, PAV3\n",
    "    with open(yfile) as file_obj:\n",
    "        params = yaml.safe_load(file_obj)\n",
    "        \n",
    "    # Define output filenames and directories\n",
    "    sim_data_dir = params['Output']['directory']\n",
    "    simulated_filename = params['Output']['file']\n",
    "    crop_file = simulated_filename.replace('.fits', '_cropped_from_mosaic.fits')\n",
    "    crop_file = os.path.join(sim_data_dir, crop_file)\n",
    "    blot_file = simulated_filename.replace('.fits', '_blotted_seed_image.fits')\n",
    "        \n",
    "    # Crop from the mosaic and then resample the image\n",
    "    seed = ImgSeed(paramfile=yfile, mosaicfile=mosaicfile, cropped_file=crop_file,\n",
    "                   outdir=sim_data_dir, blotted_file=blot_file)\n",
    "    seed.crop_and_blot()\n",
    "    \n",
    "    # Run dark_prep\n",
    "    dark = DarkPrep()\n",
    "    dark.paramfile = yfile\n",
    "    dark.prepare()\n",
    "\n",
    "    # Run the observation generator\n",
    "    obs = Observation()\n",
    "    obs.paramfile = yfile    \n",
    "    obs.seed = seed.seed_image\n",
    "    obs.segmap = seed.seed_segmap\n",
    "    obs.seedheader = seed.seedinfo\n",
    "    obs.linDark = dark.prepDark\n",
    "    obs.create()"
   ]
  },
  {
   "cell_type": "markdown",
   "metadata": {},
   "source": [
    "Now run the dark_prep and obj_generator modules"
   ]
  },
  {
   "cell_type": "code",
   "execution_count": null,
   "metadata": {
    "scrolled": true
   },
   "outputs": [],
   "source": [
    "This needs to be done in the same loop as the cropping and blotting\n",
    "if we are going to pass the seed_image, segmap, and seedinfo to obs_generator.\n",
    "If we pass a file then this can be in a separate loop.\n",
    "for yfile in yam.yaml_files:\n",
    "    # Run dark_prep\n",
    "    dark = DarkPrep()\n",
    "    dark.paramfile = yfile\n",
    "    dark.prepare()\n",
    "\n",
    "    # Run the observation generator\n",
    "    obs = Observation()\n",
    "    obs.paramfile = yfile\n",
    "\n",
    "    # This, or\n",
    "    #obs.seed = seed.blotted_file\n",
    "    # This\n",
    "    obs.seed = seed.seed_image\n",
    "    obs.segmap = seed.seed_segmap\n",
    "    obs.seedheader = seed.seedinfo\n",
    "\n",
    "    obs.create()"
   ]
  },
  {
   "cell_type": "code",
   "execution_count": null,
   "metadata": {},
   "outputs": [],
   "source": [
    "seed.seed_image"
   ]
  },
  {
   "cell_type": "code",
   "execution_count": null,
   "metadata": {},
   "outputs": [],
   "source": []
  }
 ],
 "metadata": {
  "kernelspec": {
   "display_name": "Python 3",
   "language": "python",
   "name": "python3"
  },
  "language_info": {
   "codemirror_mode": {
    "name": "ipython",
    "version": 3
   },
   "file_extension": ".py",
   "mimetype": "text/x-python",
   "name": "python",
   "nbconvert_exporter": "python",
   "pygments_lexer": "ipython3",
   "version": "3.6.7"
  }
 },
 "nbformat": 4,
 "nbformat_minor": 2
}
