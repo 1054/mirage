{
 "cells": [
  {
   "cell_type": "code",
   "execution_count": 2,
   "metadata": {
    "nbsphinx": "hidden"
   },
   "outputs": [
    {
     "name": "stdout",
     "output_type": "stream",
     "text": [
      "Populating the interactive namespace from numpy and matplotlib\n"
     ]
    }
   ],
   "source": [
    "%pylab inline\n",
    "import matplotlib\n",
    "import numpy as np"
   ]
  },
  {
   "cell_type": "markdown",
   "metadata": {
    "nbsphinx": "hidden"
   },
   "source": [
    "This is an example of how to set up notebooks for use in Sphinx docs. You can choose to have some cells hidden; they execute in the notebook but are not shown in the HTML output. This is useful for imports and setup. \n",
    "\n",
    "To do this, in Jupyter go to the View menu, select the Cell Toolbar submenu, and select \"Edit Metadata\". This will make each cell have a new \"Edit Metadata\" button. The metadata is a dict for each cell. Add ` \"nbsphinx\": \"hidden\"` to a given cell and it will be hidden. This has been done for the above cell and for this one. "
   ]
  },
  {
   "cell_type": "markdown",
   "metadata": {},
   "source": [
    "# MIRAGE Quick Start"
   ]
  },
  {
   "cell_type": "markdown",
   "metadata": {},
   "source": [
    "**Important:** Before proceeding, ensure you have set the MIRAGE_DATA environment variable to point to the top level directory that contains the reference files associated with MIRAGE."
   ]
  },
  {
   "cell_type": "code",
   "execution_count": 3,
   "metadata": {},
   "outputs": [],
   "source": [
    "from glob import glob\n",
    "from mirage import imaging_simulator\n",
    "from mirage.apt import apt_inputs\n",
    "from mirage.yaml import yaml_generator"
   ]
  },
  {
   "cell_type": "markdown",
   "metadata": {},
   "source": [
    "### Create `mirage` input yaml files from an APT file"
   ]
  },
  {
   "cell_type": "markdown",
   "metadata": {},
   "source": [
    "**NOTE**: To see an example observation list file, see the [Simulating Observations from an APT File](https://jwst-mirage.readthedocs.io/en/stable/yaml_generator.html) page."
   ]
  },
  {
   "cell_type": "code",
   "execution_count": null,
   "metadata": {},
   "outputs": [],
   "source": [
    "apt_xml_file = 'my_apt_file.xml'\n",
    "apt_pointing_file = 'my_apt_file.pointing'\n",
    "observation_list_file = 'observation_list.yaml'"
   ]
  },
  {
   "cell_type": "code",
   "execution_count": null,
   "metadata": {},
   "outputs": [],
   "source": [
    "# Create a series of data simulator input yaml files\n",
    "# from APT files\n",
    "yam = yaml_generator.SimInput()\n",
    "\n",
    "# Point to the xml and pointing files from your APT proposal\n",
    "yam.input_xml = apt_xml_file\n",
    "yam.pointing_file = apt_pointing_file\n",
    "\n",
    "# Output directory for the collection of yaml files\n",
    "yam.output_dir = './yaml_files'\n",
    "\n",
    "# Output directory for the simulated observations\n",
    "yam.simdata_output_dir = './imaging_data/'\n",
    "\n",
    "# Observation table that lists the source catalogs to use with each filter/observation\n",
    "yam.observation_table = observation_list_file\n",
    "\n",
    "# Output data type. \"raw\", \"linear\", or \"linear,raw\" for both\n",
    "yam.datatype = 'raw'\n",
    "\n",
    "# Create the yaml files\n",
    "yam.reffile_setup()\n",
    "yam.create_inputs()"
   ]
  },
  {
   "cell_type": "markdown",
   "metadata": {},
   "source": [
    "### Run `mirage` on all yaml files"
   ]
  },
  {
   "cell_type": "code",
   "execution_count": null,
   "metadata": {},
   "outputs": [],
   "source": [
    "# Create a list of all yaml files to be run\n",
    "yaml_files = glob('./yaml_files/*yaml')"
   ]
  },
  {
   "cell_type": "markdown",
   "metadata": {},
   "source": [
    "#### run in series:"
   ]
  },
  {
   "cell_type": "code",
   "execution_count": null,
   "metadata": {},
   "outputs": [],
   "source": [
    "for yaml_file in yaml_files:\n",
    "    sim = imaging_simulator.ImgSim()\n",
    "    sim.paramfile = yaml_file\n",
    "    sim.create()"
   ]
  },
  {
   "cell_type": "markdown",
   "metadata": {},
   "source": [
    "#### run in parallel:"
   ]
  },
  {
   "cell_type": "code",
   "execution_count": null,
   "metadata": {},
   "outputs": [],
   "source": [
    "# Small wrapper function for mirage so that we can parallelize it\n",
    "def run_mirage_imaging(paramfile):\n",
    "    img = imaging_simulator.ImgSim()\n",
    "    img.paramfile = paramfile\n",
    "    img.create()"
   ]
  },
  {
   "cell_type": "code",
   "execution_count": null,
   "metadata": {},
   "outputs": [],
   "source": [
    "from multiprocessing import Pool\n",
    "\n",
    "n_procs = 5 # number of cores to use\n",
    "with Pool(n_procs) as pool:\n",
    "    pool.map(run_mirage_imaging, yaml_files)"
   ]
  }
 ],
 "metadata": {
  "celltoolbar": "Edit Metadata",
  "kernelspec": {
   "display_name": "Python 3",
   "language": "python",
   "name": "python3"
  },
  "language_info": {
   "codemirror_mode": {
    "name": "ipython",
    "version": 3
   },
   "file_extension": ".py",
   "mimetype": "text/x-python",
   "name": "python",
   "nbconvert_exporter": "python",
   "pygments_lexer": "ipython3",
   "version": "3.5.6"
  }
 },
 "nbformat": 4,
 "nbformat_minor": 2
}
